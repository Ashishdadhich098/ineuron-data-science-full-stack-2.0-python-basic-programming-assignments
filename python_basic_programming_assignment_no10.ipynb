{
  "nbformat": 4,
  "nbformat_minor": 0,
  "metadata": {
    "colab": {
      "provenance": []
    },
    "kernelspec": {
      "name": "python3",
      "display_name": "Python 3"
    },
    "language_info": {
      "name": "python"
    }
  },
  "cells": [
    {
      "cell_type": "code",
      "execution_count": 8,
      "metadata": {
        "colab": {
          "base_uri": "https://localhost:8080/"
        },
        "id": "g00YKMRaW8kg",
        "outputId": "c026f0ed-ef37-4e7d-f558-11a3ce42212d"
      },
      "outputs": [
        {
          "output_type": "stream",
          "name": "stdout",
          "text": [
            "enter the lenghth of your list :5\n",
            "5\n",
            "4\n",
            "3\n",
            "2\n",
            "1\n",
            "the list is  [5, 4, 3, 2, 1]\n",
            "sum of the element in list  15\n"
          ]
        }
      ],
      "source": [
        "# Ans no 1:-\n",
        "n = int(input(\"enter the lenghth of your list :\"))\n",
        "lst=[]\n",
        "\n",
        "for i in range (n):\n",
        "   lst.append(int(input()))\n",
        "print('the list is ',lst)\n",
        "print('sum of the element in list ',sum(lst))"
      ]
    },
    {
      "cell_type": "code",
      "source": [
        "# Ans no 2:-\n",
        "n = int(input(\"Enter the lenth of your list : \"))\n",
        "lst = []\n",
        "\n",
        "for i in range(n):\n",
        "    lst.append(int(input()))\n",
        "print(\"The List is \",lst)\n",
        "product = 1\n",
        "for i in lst:\n",
        "    product = product*i\n",
        "print(\"Product of elements in List is :\",product)"
      ],
      "metadata": {
        "colab": {
          "base_uri": "https://localhost:8080/"
        },
        "id": "8SGhjd6hlyjN",
        "outputId": "9959b1db-df3f-4ded-a5ad-f3d3f6f1ed7a"
      },
      "execution_count": 9,
      "outputs": [
        {
          "output_type": "stream",
          "name": "stdout",
          "text": [
            "Enter the lenth of your list : 5\n",
            "5\n",
            "4\n",
            "3\n",
            "2\n",
            "1\n",
            "The List is  [5, 4, 3, 2, 1]\n",
            "Product of elements in List is : 120\n"
          ]
        }
      ]
    },
    {
      "cell_type": "code",
      "source": [
        "# Ans no 3:-\n",
        "n = int(input(\"Enter the lenth of your list : \"))\n",
        "lst = []\n",
        "\n",
        "for i in range(n):\n",
        "    lst.append(int(input()))\n",
        "print(\"The List is \",lst)\n",
        "print(\"The Smallest no. in the list is :\",min(lst))"
      ],
      "metadata": {
        "colab": {
          "base_uri": "https://localhost:8080/"
        },
        "id": "mpJ_xn24mxDD",
        "outputId": "1a356b36-03d5-4619-b9a1-80391d0cb96f"
      },
      "execution_count": 11,
      "outputs": [
        {
          "output_type": "stream",
          "name": "stdout",
          "text": [
            "Enter the lenth of your list : 3\n",
            "4\n",
            "81\n",
            "7\n",
            "The List is  [4, 81, 7]\n",
            "The Smallest no. in the list is : 4\n"
          ]
        }
      ]
    },
    {
      "cell_type": "code",
      "source": [
        "# Ans no 4:-\n",
        "n = int(input(\"Enter the lenth of your list : \"))\n",
        "lst = []\n",
        "\n",
        "for i in range(n):\n",
        "    lst.append(int(input()))\n",
        "print(\"The List is \",lst)\n",
        "print(\"The largest no. in the list is :\",max(lst))"
      ],
      "metadata": {
        "colab": {
          "base_uri": "https://localhost:8080/"
        },
        "id": "KG2OmHkSMI49",
        "outputId": "46adac74-a09a-4a49-a7e6-5561f4422760"
      },
      "execution_count": 13,
      "outputs": [
        {
          "output_type": "stream",
          "name": "stdout",
          "text": [
            "Enter the lenth of your list : 5\n",
            "9\n",
            "8\n",
            "7\n",
            "33\n",
            "21\n",
            "The List is  [9, 8, 7, 33, 21]\n",
            "The largest no. in the list is : 33\n"
          ]
        }
      ]
    },
    {
      "cell_type": "code",
      "source": [
        "# Ans no 5:-\n",
        "n = int(input(\"Enter the lenth of your list : \"))\n",
        "lst = []\n",
        "\n",
        "for i in range(n):\n",
        "    lst.append(int(input()))\n",
        "print(\"The List is \",lst)\n",
        "lst.sort()\n",
        "print(\"The sorted list is \",lst)\n",
        "print(\"The second largest number in the list is \",lst[-2])\n",
        ""
      ],
      "metadata": {
        "colab": {
          "base_uri": "https://localhost:8080/"
        },
        "id": "Zwt0an2PMnev",
        "outputId": "a42446ff-3a1c-4c29-be39-486a23e4beed"
      },
      "execution_count": 15,
      "outputs": [
        {
          "output_type": "stream",
          "name": "stdout",
          "text": [
            "Enter the lenth of your list : 5\n",
            "3\n",
            "2\n",
            "8\n",
            "9\n",
            "1\n",
            "The List is  [3, 2, 8, 9, 1]\n",
            "The sorted list is  [1, 2, 3, 8, 9]\n",
            "The second largest number in the list is  8\n"
          ]
        }
      ]
    },
    {
      "cell_type": "code",
      "source": [
        "# Ans no 6:-\n",
        "n = int(input(\"Enter the lenth of your list : \"))\n",
        "lst = []\n",
        "\n",
        "for i in range(n):\n",
        "    lst.append(int(input()))\n",
        "print(\"The List is \",lst)\n",
        "lst.sort()\n",
        "print(\"The sorted list is \",lst)\n",
        "nlar = int(input(\"Enter how many largest number you want from list:\"))\n",
        "\n",
        "if n < nlar :\n",
        "    print(\"enterted value is larger then the length of list\")\n",
        "else:\n",
        "    print(nlar,\"largest elements from the list are :\",lst[(n-nlar):])"
      ],
      "metadata": {
        "colab": {
          "base_uri": "https://localhost:8080/"
        },
        "id": "2ppjp69-NXwM",
        "outputId": "1e6561a4-a8bd-41ce-9a01-7f656b389ab0"
      },
      "execution_count": 17,
      "outputs": [
        {
          "output_type": "stream",
          "name": "stdout",
          "text": [
            "Enter the lenth of your list : 5\n",
            "8\n",
            "9\n",
            "7\n",
            "8\n",
            "6\n",
            "The List is  [8, 9, 7, 8, 6]\n",
            "The sorted list is  [6, 7, 8, 8, 9]\n",
            "Enter how many largest number you want from list:2\n",
            "2 largest elements from the list are : [8, 9]\n"
          ]
        }
      ]
    },
    {
      "cell_type": "code",
      "source": [
        "# Ans no 7:-\n",
        "lent =  int(input(\"Enter  the len of the list :\"))\n",
        "lst = []\n",
        "for i in  range(lent):\n",
        "  lst.append(int(input()))\n",
        "print(\"The List is :\" ,lst)\n",
        "even = [i for i in lst if i%2==0 ]\n",
        "print(\"The even numbers in list\" , even)"
      ],
      "metadata": {
        "colab": {
          "base_uri": "https://localhost:8080/"
        },
        "id": "HSMPXBOiPqZJ",
        "outputId": "d568c7e0-2f01-4841-a4a4-aadb6cf4f8d6"
      },
      "execution_count": 18,
      "outputs": [
        {
          "output_type": "stream",
          "name": "stdout",
          "text": [
            "Enter  the len of the list :5\n",
            "2\n",
            "4\n",
            "7\n",
            "6\n",
            "5\n",
            "The List is : [2, 4, 7, 6, 5]\n",
            "The even numbers in list [2, 4, 6]\n"
          ]
        }
      ]
    },
    {
      "cell_type": "code",
      "source": [
        "# Ans no 8:-\n",
        "lent =  int(input(\"Enter  the len of the list :\"))\n",
        "lst = []\n",
        "for i in  range(lent):\n",
        "  lst.append(int(input()))\n",
        "print(\"The List is :\" ,lst)\n",
        "odd = [i for i in lst if i%2 != 0 ]\n",
        "print(\"The even numbers in list\" , odd)"
      ],
      "metadata": {
        "colab": {
          "base_uri": "https://localhost:8080/"
        },
        "id": "pf8QOUbbQS-Y",
        "outputId": "a6874414-f937-470a-92c8-3636bfb561bf"
      },
      "execution_count": 20,
      "outputs": [
        {
          "output_type": "stream",
          "name": "stdout",
          "text": [
            "Enter  the len of the list :5\n",
            "1\n",
            "3\n",
            "6\n",
            "5\n",
            "4\n",
            "The List is : [1, 3, 6, 5, 4]\n",
            "The even numbers in list [1, 3, 5]\n"
          ]
        }
      ]
    },
    {
      "cell_type": "code",
      "source": [
        "# Ans no 9:-\n",
        "lst = [55,[],14,75,[],96,80,[],36]\n",
        "print(\"The List :\",lst)\n",
        "new_list = [item for item in lst if item != []]\n",
        "print(\"The list after removing empty lists :\" , new_list)"
      ],
      "metadata": {
        "colab": {
          "base_uri": "https://localhost:8080/"
        },
        "id": "4DGVt0GcQylM",
        "outputId": "4f44cf9c-dbcb-4352-f750-7ae7cca5faf5"
      },
      "execution_count": 21,
      "outputs": [
        {
          "output_type": "stream",
          "name": "stdout",
          "text": [
            "The List : [55, [], 14, 75, [], 96, 80, [], 36]\n",
            "The list after removing empty lists : [55, 14, 75, 96, 80, 36]\n"
          ]
        }
      ]
    },
    {
      "cell_type": "code",
      "source": [
        "# Ans no 10:-\n",
        "n = int(input(\"Enter the lenth of your list : \"))\n",
        "lst = []\n",
        "\n",
        "for i in range(n):\n",
        "    lst.append(int(input()))\n",
        "print(\"The List is \",lst)\n",
        "\n",
        "lst_copy = lst.copy()\n",
        "print(\"Cloning By list copying lst \",lst_copy)"
      ],
      "metadata": {
        "colab": {
          "base_uri": "https://localhost:8080/"
        },
        "id": "DmR0UI1TR0i8",
        "outputId": "cebbe6a2-b1ad-4ddb-f20f-1b7694d2c00c"
      },
      "execution_count": 22,
      "outputs": [
        {
          "output_type": "stream",
          "name": "stdout",
          "text": [
            "Enter the lenth of your list : 5\n",
            "8\n",
            "9\n",
            "6\n",
            "7\n",
            "5\n",
            "The List is  [8, 9, 6, 7, 5]\n",
            "Cloning By list copying lst  [8, 9, 6, 7, 5]\n"
          ]
        }
      ]
    },
    {
      "cell_type": "code",
      "source": [
        "# Ans no 11:-\n",
        "lent = int(input(\"Enter the lenth of your list : \"))\n",
        "lst = []\n",
        "\n",
        "for i in range(lent):\n",
        "    lst.append(int(input()))\n",
        "print(\"The List is \",lst)\n",
        "ele= int(input(\"Enter the element to find its occurance : \"))\n",
        "print(ele,\"has occured {} times in the list \".format(lst.count(ele)))"
      ],
      "metadata": {
        "colab": {
          "base_uri": "https://localhost:8080/"
        },
        "id": "qQeHq0EYStOw",
        "outputId": "aecb9f10-33a9-41c9-d8d5-6ca1e4af0f2c"
      },
      "execution_count": 23,
      "outputs": [
        {
          "output_type": "stream",
          "name": "stdout",
          "text": [
            "Enter the lenth of your list : 5\n",
            "9\n",
            "8\n",
            "7\n",
            "6\n",
            "5\n",
            "The List is  [9, 8, 7, 6, 5]\n",
            "Enter the element to find its occurance : 2\n",
            "2 has occured 0 times in the list \n"
          ]
        }
      ]
    },
    {
      "cell_type": "code",
      "source": [],
      "metadata": {
        "id": "mgYBkW3qS4C1"
      },
      "execution_count": null,
      "outputs": []
    }
  ]
}