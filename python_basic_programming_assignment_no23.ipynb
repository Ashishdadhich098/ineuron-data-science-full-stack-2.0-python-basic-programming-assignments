{
  "nbformat": 4,
  "nbformat_minor": 0,
  "metadata": {
    "colab": {
      "provenance": []
    },
    "kernelspec": {
      "name": "python3",
      "display_name": "Python 3"
    },
    "language_info": {
      "name": "python"
    }
  },
  "cells": [
    {
      "cell_type": "code",
      "execution_count": 1,
      "metadata": {
        "id": "__s1z-FY-JWS"
      },
      "outputs": [],
      "source": [
        "# Ans no 1:-\n",
        "def is_symmetrical(num):\n",
        "    currentDigit = reversedDigit = 0\n",
        "    remainingNum = num\n",
        "    while(remainingNum != 0):\n",
        "\n",
        "        currentDigit = remainingNum % 10\n",
        "\n",
        "        reversedDigit = reversedDigit * 10 + currentDigit\n",
        "        print('Reveresed Digit :',reversedDigit)\n",
        "        remainingNum = remainingNum // 10\n",
        "\n",
        "    if reversedDigit == num:\n",
        "        print('Num {} is symmetrical'.format(num))\n",
        "    else:\n",
        "        print('Num {} is not symmetrical'.format(num))"
      ]
    },
    {
      "cell_type": "code",
      "source": [
        "is_symmetrical(7227)\n"
      ],
      "metadata": {
        "colab": {
          "base_uri": "https://localhost:8080/"
        },
        "id": "hRKZwyYEoi8V",
        "outputId": "aa2e272b-a047-485c-cfa1-f09763868c11"
      },
      "execution_count": 2,
      "outputs": [
        {
          "output_type": "stream",
          "name": "stdout",
          "text": [
            "Reveresed Digit : 7\n",
            "Reveresed Digit : 72\n",
            "Reveresed Digit : 722\n",
            "Reveresed Digit : 7227\n",
            "Num 7227 is symmetrical\n"
          ]
        }
      ]
    },
    {
      "cell_type": "code",
      "source": [
        "is_symmetrical(12567)"
      ],
      "metadata": {
        "colab": {
          "base_uri": "https://localhost:8080/"
        },
        "id": "fBuZe3pipi_3",
        "outputId": "bdb6e5b5-392f-4b05-ae44-39e192efff9d"
      },
      "execution_count": 3,
      "outputs": [
        {
          "output_type": "stream",
          "name": "stdout",
          "text": [
            "Reveresed Digit : 7\n",
            "Reveresed Digit : 76\n",
            "Reveresed Digit : 765\n",
            "Reveresed Digit : 7652\n",
            "Reveresed Digit : 76521\n",
            "Num 12567 is not symmetrical\n"
          ]
        }
      ]
    },
    {
      "cell_type": "code",
      "source": [
        "is_symmetrical(44444444)\n"
      ],
      "metadata": {
        "colab": {
          "base_uri": "https://localhost:8080/"
        },
        "id": "Ptsi3aNTpoKR",
        "outputId": "8c456ee3-712d-4a00-e364-ccc357cc7712"
      },
      "execution_count": 4,
      "outputs": [
        {
          "output_type": "stream",
          "name": "stdout",
          "text": [
            "Reveresed Digit : 4\n",
            "Reveresed Digit : 44\n",
            "Reveresed Digit : 444\n",
            "Reveresed Digit : 4444\n",
            "Reveresed Digit : 44444\n",
            "Reveresed Digit : 444444\n",
            "Reveresed Digit : 4444444\n",
            "Reveresed Digit : 44444444\n",
            "Num 44444444 is symmetrical\n"
          ]
        }
      ]
    },
    {
      "cell_type": "code",
      "source": [
        "is_symmetrical(9939)"
      ],
      "metadata": {
        "colab": {
          "base_uri": "https://localhost:8080/"
        },
        "id": "30NS16VVpvEi",
        "outputId": "207b0fe8-2024-4a72-c788-9ad187e4f269"
      },
      "execution_count": 5,
      "outputs": [
        {
          "output_type": "stream",
          "name": "stdout",
          "text": [
            "Reveresed Digit : 9\n",
            "Reveresed Digit : 93\n",
            "Reveresed Digit : 939\n",
            "Reveresed Digit : 9399\n",
            "Num 9939 is not symmetrical\n"
          ]
        }
      ]
    },
    {
      "cell_type": "code",
      "source": [
        "is_symmetrical(1112111)\n"
      ],
      "metadata": {
        "colab": {
          "base_uri": "https://localhost:8080/"
        },
        "id": "EUxydA8EpyKx",
        "outputId": "10244880-cefc-4868-cf4a-1610702032a8"
      },
      "execution_count": 6,
      "outputs": [
        {
          "output_type": "stream",
          "name": "stdout",
          "text": [
            "Reveresed Digit : 1\n",
            "Reveresed Digit : 11\n",
            "Reveresed Digit : 111\n",
            "Reveresed Digit : 1112\n",
            "Reveresed Digit : 11121\n",
            "Reveresed Digit : 111211\n",
            "Reveresed Digit : 1112111\n",
            "Num 1112111 is symmetrical\n"
          ]
        }
      ]
    },
    {
      "cell_type": "code",
      "source": [
        "# Ans no 2:-\n",
        "def multiply_nums(s):\n",
        "    s = s.replace(' ', \"\")\n",
        "    s = s.split(',')\n",
        "    sum = 1\n",
        "    for i in s:\n",
        "        sum = sum * int(i)\n",
        "    return sum"
      ],
      "metadata": {
        "id": "BcDoaTiAp5QJ"
      },
      "execution_count": 7,
      "outputs": []
    },
    {
      "cell_type": "code",
      "source": [
        "multiply_nums('2, 3')"
      ],
      "metadata": {
        "colab": {
          "base_uri": "https://localhost:8080/"
        },
        "id": "u8W1ULptp9yA",
        "outputId": "d41e1d03-146d-4b6f-8720-4b73ae712dee"
      },
      "execution_count": 8,
      "outputs": [
        {
          "output_type": "execute_result",
          "data": {
            "text/plain": [
              "6"
            ]
          },
          "metadata": {},
          "execution_count": 8
        }
      ]
    },
    {
      "cell_type": "code",
      "source": [
        "multiply_nums('1, 2, 3, 4')"
      ],
      "metadata": {
        "colab": {
          "base_uri": "https://localhost:8080/"
        },
        "id": "bl4udiV_qBQB",
        "outputId": "3efc75d3-db8c-43d4-afb5-7979f4991062"
      },
      "execution_count": 9,
      "outputs": [
        {
          "output_type": "execute_result",
          "data": {
            "text/plain": [
              "24"
            ]
          },
          "metadata": {},
          "execution_count": 9
        }
      ]
    },
    {
      "cell_type": "code",
      "source": [
        "multiply_nums('54, 75, 453, 0')\n",
        "\n",
        ""
      ],
      "metadata": {
        "colab": {
          "base_uri": "https://localhost:8080/"
        },
        "id": "AefeZ6bfqEQT",
        "outputId": "002b4d6b-45e5-466d-f3a7-da73f3105d81"
      },
      "execution_count": 10,
      "outputs": [
        {
          "output_type": "execute_result",
          "data": {
            "text/plain": [
              "0"
            ]
          },
          "metadata": {},
          "execution_count": 10
        }
      ]
    },
    {
      "cell_type": "code",
      "source": [
        "multiply_nums('10, -2')\n"
      ],
      "metadata": {
        "colab": {
          "base_uri": "https://localhost:8080/"
        },
        "id": "stRzswh4qHih",
        "outputId": "4af5774a-31b6-42c6-9d48-a3c0af3439f6"
      },
      "execution_count": 11,
      "outputs": [
        {
          "output_type": "execute_result",
          "data": {
            "text/plain": [
              "-20"
            ]
          },
          "metadata": {},
          "execution_count": 11
        }
      ]
    },
    {
      "cell_type": "code",
      "source": [
        "# Ans no 3:-\n",
        "def square_digits(num):\n",
        "    z = ''.join(str(int(i)**2) for i in str(num))\n",
        "    return int(z)\n",
        ""
      ],
      "metadata": {
        "id": "Vt-RkjtPqLfx"
      },
      "execution_count": 12,
      "outputs": []
    },
    {
      "cell_type": "code",
      "source": [
        "square_digits(9119)"
      ],
      "metadata": {
        "colab": {
          "base_uri": "https://localhost:8080/"
        },
        "id": "lV64O7JGqQjZ",
        "outputId": "66c9e5c0-613e-41f6-e4e2-ada078374c84"
      },
      "execution_count": 13,
      "outputs": [
        {
          "output_type": "execute_result",
          "data": {
            "text/plain": [
              "811181"
            ]
          },
          "metadata": {},
          "execution_count": 13
        }
      ]
    },
    {
      "cell_type": "code",
      "source": [
        "square_digits(2483)\n"
      ],
      "metadata": {
        "colab": {
          "base_uri": "https://localhost:8080/"
        },
        "id": "guMXqiW8qTWh",
        "outputId": "f0004877-3301-41ff-8240-1e34f6806353"
      },
      "execution_count": 14,
      "outputs": [
        {
          "output_type": "execute_result",
          "data": {
            "text/plain": [
              "416649"
            ]
          },
          "metadata": {},
          "execution_count": 14
        }
      ]
    },
    {
      "cell_type": "code",
      "source": [
        "square_digits(3212)"
      ],
      "metadata": {
        "colab": {
          "base_uri": "https://localhost:8080/"
        },
        "id": "8U9vmeEvqWNA",
        "outputId": "88a9782c-0e16-43b4-9854-a676f05eefeb"
      },
      "execution_count": 15,
      "outputs": [
        {
          "output_type": "execute_result",
          "data": {
            "text/plain": [
              "9414"
            ]
          },
          "metadata": {},
          "execution_count": 15
        }
      ]
    },
    {
      "cell_type": "code",
      "source": [
        "# Ans no 4:-\n",
        "\n",
        "def setify(lst):\n",
        "    return list(set(lst))"
      ],
      "metadata": {
        "id": "MDOrI4xeqa8g"
      },
      "execution_count": 16,
      "outputs": []
    },
    {
      "cell_type": "code",
      "source": [
        "setify([1, 3, 3, 5, 5])\n"
      ],
      "metadata": {
        "colab": {
          "base_uri": "https://localhost:8080/"
        },
        "id": "EbMYuzAnquJC",
        "outputId": "71d91234-3845-41a3-dfde-9af64b6e5266"
      },
      "execution_count": 17,
      "outputs": [
        {
          "output_type": "execute_result",
          "data": {
            "text/plain": [
              "[1, 3, 5]"
            ]
          },
          "metadata": {},
          "execution_count": 17
        }
      ]
    },
    {
      "cell_type": "code",
      "source": [
        "setify([4, 4, 4, 4])\n"
      ],
      "metadata": {
        "colab": {
          "base_uri": "https://localhost:8080/"
        },
        "id": "BQ9zHIx_qxQB",
        "outputId": "1ad1b465-c777-40c2-ca47-88834ae4a4de"
      },
      "execution_count": 18,
      "outputs": [
        {
          "output_type": "execute_result",
          "data": {
            "text/plain": [
              "[4]"
            ]
          },
          "metadata": {},
          "execution_count": 18
        }
      ]
    },
    {
      "cell_type": "code",
      "source": [
        "setify([5, 7, 8, 9, 10, 15])"
      ],
      "metadata": {
        "colab": {
          "base_uri": "https://localhost:8080/"
        },
        "id": "Qart9g4cq0Zq",
        "outputId": "a899d091-057c-4a6f-dfc5-e8f2eb32d01b"
      },
      "execution_count": 19,
      "outputs": [
        {
          "output_type": "execute_result",
          "data": {
            "text/plain": [
              "[5, 7, 8, 9, 10, 15]"
            ]
          },
          "metadata": {},
          "execution_count": 19
        }
      ]
    },
    {
      "cell_type": "code",
      "source": [
        "setify([3, 3, 3, 2, 1])\n"
      ],
      "metadata": {
        "colab": {
          "base_uri": "https://localhost:8080/"
        },
        "id": "i3Oi15iSq3l4",
        "outputId": "93adc3fc-e6e8-4b41-b13d-f17480b56492"
      },
      "execution_count": 20,
      "outputs": [
        {
          "output_type": "execute_result",
          "data": {
            "text/plain": [
              "[1, 2, 3]"
            ]
          },
          "metadata": {},
          "execution_count": 20
        }
      ]
    },
    {
      "cell_type": "code",
      "source": [
        "# Ans no 5:-\n",
        "def mean(n):\n",
        "    N = len(str(n))\n",
        "    sum = mean = 0\n",
        "\n",
        "    for digit in str(n):\n",
        "        sum += int(digit)\n",
        "    return int(sum/N)"
      ],
      "metadata": {
        "id": "tcnbDMDKq7iS"
      },
      "execution_count": 21,
      "outputs": []
    },
    {
      "cell_type": "code",
      "source": [
        "mean(42)"
      ],
      "metadata": {
        "colab": {
          "base_uri": "https://localhost:8080/"
        },
        "id": "mtJV7TeyrA6a",
        "outputId": "026e97fa-d56e-4e65-d527-ac6a570e6aed"
      },
      "execution_count": 22,
      "outputs": [
        {
          "output_type": "execute_result",
          "data": {
            "text/plain": [
              "3"
            ]
          },
          "metadata": {},
          "execution_count": 22
        }
      ]
    },
    {
      "cell_type": "code",
      "source": [
        "mean(12345)"
      ],
      "metadata": {
        "colab": {
          "base_uri": "https://localhost:8080/"
        },
        "id": "RmRz-SgBrFn4",
        "outputId": "2240515a-96ac-4769-e840-6c2273d6ac77"
      },
      "execution_count": 23,
      "outputs": [
        {
          "output_type": "execute_result",
          "data": {
            "text/plain": [
              "3"
            ]
          },
          "metadata": {},
          "execution_count": 23
        }
      ]
    },
    {
      "cell_type": "code",
      "source": [
        "mean(666)\n"
      ],
      "metadata": {
        "colab": {
          "base_uri": "https://localhost:8080/"
        },
        "id": "RKKmybH8rI6Z",
        "outputId": "39e7eeb7-78ee-4f6d-aa1b-9857c7b2c791"
      },
      "execution_count": 24,
      "outputs": [
        {
          "output_type": "execute_result",
          "data": {
            "text/plain": [
              "6"
            ]
          },
          "metadata": {},
          "execution_count": 24
        }
      ]
    },
    {
      "cell_type": "code",
      "source": [],
      "metadata": {
        "id": "XeHYVE4krKao"
      },
      "execution_count": null,
      "outputs": []
    }
  ]
}