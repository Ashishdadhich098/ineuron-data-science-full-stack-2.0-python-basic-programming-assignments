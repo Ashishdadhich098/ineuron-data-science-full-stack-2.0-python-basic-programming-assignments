{
  "nbformat": 4,
  "nbformat_minor": 0,
  "metadata": {
    "colab": {
      "provenance": []
    },
    "kernelspec": {
      "name": "python3",
      "display_name": "Python 3"
    },
    "language_info": {
      "name": "python"
    }
  },
  "cells": [
    {
      "cell_type": "code",
      "execution_count": 1,
      "metadata": {
        "colab": {
          "base_uri": "https://localhost:8080/"
        },
        "id": "a9suKyJU7IwG",
        "outputId": "70e51410-eb65-4f6e-9cb1-bc831be596da"
      },
      "outputs": [
        {
          "output_type": "stream",
          "name": "stdout",
          "text": [
            "Enter the number :20\n",
            "20 Number is not Disarium\n"
          ]
        }
      ],
      "source": [
        "# Ans no 1:-\n",
        "def Disarium(num):\n",
        "    sum = 0\n",
        "    while(num>0):\n",
        "        l= len(str(num))\n",
        "        no = num%10\n",
        "        sum= sum + no**l\n",
        "        l-=1\n",
        "        num = num//10\n",
        "    return sum\n",
        "\n",
        "num = int(input(\"Enter the number :\"))\n",
        "\n",
        "\n",
        "sum = Disarium(num)\n",
        "if sum == num:\n",
        "    print(num,\"Number is Disarium\")\n",
        "else:\n",
        "    print(num,\"Number is not Disarium\")\n",
        "#A number is said to be the Disarium number when the sum of its digit\n",
        "# raised to the power of their respective positions becomes equal to the number itself.\n",
        ""
      ]
    },
    {
      "cell_type": "code",
      "source": [
        "# Ans no 2:-\n",
        "def Disarium(num):\n",
        "    sum = 0\n",
        "    while(num>0):\n",
        "        l= len(str(num))\n",
        "        no = num%10\n",
        "        sum= sum + no**l\n",
        "        l-=1\n",
        "        num = num//10\n",
        "    return sum\n",
        "\n",
        "print(\"Disarium no in range 1 to 100\")\n",
        "\n",
        "disno = []\n",
        "\n",
        "for i in range(1,101):\n",
        "    sum = 0\n",
        "    sum = Disarium(i)\n",
        "    if sum == i:\n",
        "        disno.append(i)\n",
        "print(disno)"
      ],
      "metadata": {
        "colab": {
          "base_uri": "https://localhost:8080/"
        },
        "id": "RUn4tyDu-psS",
        "outputId": "073df8bb-90de-4b0d-ab09-f67d1b7f1243"
      },
      "execution_count": 2,
      "outputs": [
        {
          "output_type": "stream",
          "name": "stdout",
          "text": [
            "Disarium no in range 1 to 100\n",
            "[1, 2, 3, 4, 5, 6, 7, 8, 9, 89]\n"
          ]
        }
      ]
    },
    {
      "cell_type": "code",
      "source": [
        "# Ans no 3:-\n",
        "def Happy(num):\n",
        "    sum = 0\n",
        "    while(num>0):\n",
        "        dig = num%10\n",
        "        sum= sum + dig**2\n",
        "        num = num//10\n",
        "    return sum\n",
        "\n",
        "num = int(input(\"Enter the number :\"))\n",
        "result = num\n",
        "\n",
        "\n",
        "while (result != 1 and result != 4):\n",
        "    result = Happy(result)\n",
        "\n",
        "if result == 1:\n",
        "    print(num,\"Is a Happy Number\")\n",
        "else:\n",
        "    print(num,\" Is a Unhappy Number\")\n",
        "   #A number is said to be happy if it yields 1 when replaced by the sum of squares of its digits repeatedly.\n",
        "   # If this process results in an endless cycle of numbers containing 4, then the number will be an unhappy number.\n",
        ""
      ],
      "metadata": {
        "colab": {
          "base_uri": "https://localhost:8080/"
        },
        "id": "lY33DBwQVl4w",
        "outputId": "1d4cc78c-7b84-4542-cde9-ccbc1044ae0b"
      },
      "execution_count": 3,
      "outputs": [
        {
          "output_type": "stream",
          "name": "stdout",
          "text": [
            "Enter the number :555\n",
            "555  Is a Unhappy Number\n"
          ]
        }
      ]
    },
    {
      "cell_type": "code",
      "source": [
        "# Ans no 4:-\n",
        "def Happy(num):\n",
        "    sum = 0\n",
        "    while(num>0):\n",
        "        dig = num%10\n",
        "        sum= sum + dig**2\n",
        "        num = num//10\n",
        "    return sum\n",
        "\n",
        "print(\"Happy numbers in range 1 to 100\")\n",
        "result=num=i=0\n",
        "happyNo = []\n",
        "for i in range(1,101):\n",
        "    result = i\n",
        "    while (result != 1 and result != 4):\n",
        "        result = Happy(result)\n",
        "    if result == 1:\n",
        "        happyNo.append(i)\n",
        "print(happyNo)"
      ],
      "metadata": {
        "colab": {
          "base_uri": "https://localhost:8080/"
        },
        "id": "YfK499v3WK_G",
        "outputId": "a960c444-fbd9-4f5c-807a-06a97ec05e8f"
      },
      "execution_count": 4,
      "outputs": [
        {
          "output_type": "stream",
          "name": "stdout",
          "text": [
            "Happy numbers in range 1 to 100\n",
            "[1, 7, 10, 13, 19, 23, 28, 31, 32, 44, 49, 68, 70, 79, 82, 86, 91, 94, 97, 100]\n"
          ]
        }
      ]
    },
    {
      "cell_type": "code",
      "source": [
        "# Ans no 5:-\n",
        "def digsum(num):\n",
        "    sum = 0\n",
        "    while(num>0):\n",
        "        dig = num%10\n",
        "        sum= sum + dig\n",
        "        num = num//10\n",
        "    return sum\n",
        "\n",
        "num = int(input(\"Enter no. :\"))\n",
        "sum = digsum(num)\n",
        "\n",
        "if num % sum == 0:\n",
        "    print(num,\"Is a Harshad number\")\n",
        "else:\n",
        "    print(num,\"Is not a Harshad number\")\n",
        "\n",
        "#if a number is divisible by the sum of its digits, then it will be known as a Harshad Number"
      ],
      "metadata": {
        "colab": {
          "base_uri": "https://localhost:8080/"
        },
        "id": "amA8CzSCWi0Q",
        "outputId": "174a616e-ca8a-4b7d-f351-572a1d3e90ba"
      },
      "execution_count": 5,
      "outputs": [
        {
          "output_type": "stream",
          "name": "stdout",
          "text": [
            "Enter no. :28\n",
            "28 Is not a Harshad number\n"
          ]
        }
      ]
    },
    {
      "cell_type": "code",
      "source": [
        "# Ans no 6:-\n",
        "def PronicNo(num):\n",
        "    Pronic = False\n",
        "    for i in range(1,num+1):\n",
        "        if i*(i+1) == num:\n",
        "            Pronic = True\n",
        "            break\n",
        "    return Pronic\n",
        "\n",
        "print(\"Pronic numbers in range 1 to 100\")\n",
        "pronicno = []\n",
        "for i in range(1,101):\n",
        "    if PronicNo(i):\n",
        "        pronicno.append(i)\n",
        "print(pronicno)"
      ],
      "metadata": {
        "colab": {
          "base_uri": "https://localhost:8080/"
        },
        "id": "HVrXqhfwWq5m",
        "outputId": "1509debd-e5d9-4c5b-b879-f4e5b5af0d3a"
      },
      "execution_count": 6,
      "outputs": [
        {
          "output_type": "stream",
          "name": "stdout",
          "text": [
            "Pronic numbers in range 1 to 100\n",
            "[2, 6, 12, 20, 30, 42, 56, 72, 90]\n"
          ]
        }
      ]
    },
    {
      "cell_type": "code",
      "source": [],
      "metadata": {
        "id": "6tKq-3zXWwt7"
      },
      "execution_count": null,
      "outputs": []
    }
  ]
}