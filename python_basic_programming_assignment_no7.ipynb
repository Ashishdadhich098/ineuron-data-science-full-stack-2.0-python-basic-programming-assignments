{
  "nbformat": 4,
  "nbformat_minor": 0,
  "metadata": {
    "colab": {
      "provenance": []
    },
    "kernelspec": {
      "name": "python3",
      "display_name": "Python 3"
    },
    "language_info": {
      "name": "python"
    }
  },
  "cells": [
    {
      "cell_type": "code",
      "execution_count": 1,
      "metadata": {
        "colab": {
          "base_uri": "https://localhost:8080/"
        },
        "id": "lMivAMC8k4UM",
        "outputId": "59582176-4010-4bfb-b786-43fac59550d8"
      },
      "outputs": [
        {
          "output_type": "stream",
          "name": "stdout",
          "text": [
            "Sum :  24\n"
          ]
        }
      ],
      "source": [
        "# Ans no 1:-\n",
        "sum =0\n",
        "arr = [1,2,3,4,5,9]\n",
        "for i in range(0,len(arr)):\n",
        "    sum+=arr[i]\n",
        "print(\"Sum : \",sum)"
      ]
    },
    {
      "cell_type": "code",
      "source": [
        "# Ans no 2:-\n",
        "c = 0\n",
        "arr = [1,2,3,4,77,9]\n",
        "for i in range(0, len(arr)):\n",
        "  if c > arr[i]:\n",
        "    print(c)\n",
        "  else :\n",
        "    c = arr[i]\n",
        "\n",
        "print(\"Largest element in {} is {}\".format(arr ,c) )\n",
        "\n",
        ""
      ],
      "metadata": {
        "colab": {
          "base_uri": "https://localhost:8080/"
        },
        "id": "89aGYKZTyk0S",
        "outputId": "b243d25c-63f7-4fad-f4e6-958b48326fc1"
      },
      "execution_count": 2,
      "outputs": [
        {
          "output_type": "stream",
          "name": "stdout",
          "text": [
            "77\n",
            "Largest element in [1, 2, 3, 4, 77, 9] is 77\n"
          ]
        }
      ]
    },
    {
      "cell_type": "code",
      "source": [
        "# Ans no 3:-\n",
        "arr = [1,2,3,4,77,9]\n",
        "rot = []\n",
        "l = len(arr) -1\n",
        "for i in range(l , 0, -1):\n",
        "  print(arr[i])"
      ],
      "metadata": {
        "colab": {
          "base_uri": "https://localhost:8080/"
        },
        "id": "06FUTEHpzP6R",
        "outputId": "1822ca4f-926f-4218-bc2e-0e9469fcea99"
      },
      "execution_count": 3,
      "outputs": [
        {
          "output_type": "stream",
          "name": "stdout",
          "text": [
            "9\n",
            "77\n",
            "4\n",
            "3\n",
            "2\n"
          ]
        }
      ]
    },
    {
      "cell_type": "code",
      "source": [
        "l = int(input(\"Enter the lenth of arr : \"))\n",
        "arr = []\n",
        "\n",
        "for i in range(l):\n",
        "    arr.append(int(input()))\n",
        "print(\"Arr is \",arr)\n",
        "rotation = input(\"Enter Rotation Right/Left : \")\n",
        "noro = int(input(\"Enter the number of elements to rotate  : \"))\n",
        "if noro > l:\n",
        "    print(\"can not rotate as elements to rotate is larger then arr length\")\n",
        "else:\n",
        "    rarr = []\n",
        "    if rotation.upper() == \"RIGHT\":\n",
        "        rarr[:] = arr[-noro:] + arr[:(l-noro)]\n",
        "        print(\"After right rotation : \",rarr)\n",
        "    elif rotation.upper() == \"LEFT\":\n",
        "        rarr[:] = arr[noro:l] + arr[:noro]\n",
        "        print(\"After Left rotation : \",rarr)\n",
        "    else:\n",
        "        print(\"Wrong Entry\")\n",
        "     16\n",
        ""
      ],
      "metadata": {
        "colab": {
          "base_uri": "https://localhost:8080/"
        },
        "id": "o_7Wqe9Q0b10",
        "outputId": "ed8b2456-5cff-4ad2-df8f-40c9d345e20a"
      },
      "execution_count": 5,
      "outputs": [
        {
          "output_type": "stream",
          "name": "stdout",
          "text": [
            "Enter the lenth of arr : 6\n",
            "9\n",
            "8\n",
            "5\n",
            "4\n",
            "3\n",
            "2\n",
            "Arr is  [9, 8, 5, 4, 3, 2]\n",
            "Enter Rotation Right/Left : 1\n",
            "Enter the number of elements to rotate  : 2\n",
            "Wrong Entry\n"
          ]
        }
      ]
    },
    {
      "cell_type": "code",
      "source": [
        "# Ans no 4:-\n",
        "l = int(input(\"Enter the lenth of your list : \"))\n",
        "arr = []\n",
        "\n",
        "for i in range(l):\n",
        "    arr.append(int(input()))\n",
        "print(\"The List  \",arr)\n",
        "\n",
        "noro = int(input(\"Enter the number of elements to split  : \"))\n",
        "if noro > l:\n",
        "    print(\"can not split as elements to split is larger then list lengh\")\n",
        "else:\n",
        "    print(\"The split list is :\",arr[:noro])\n",
        "    rarr[:] = arr[noro:l] + arr[:noro]\n",
        "    print(\"The List after split and add :\", rarr)\n"
      ],
      "metadata": {
        "colab": {
          "base_uri": "https://localhost:8080/"
        },
        "id": "hy99LD7FzeWn",
        "outputId": "191736ea-caa9-4e37-e86a-787bc264bcf3"
      },
      "execution_count": 6,
      "outputs": [
        {
          "output_type": "stream",
          "name": "stdout",
          "text": [
            "Enter the lenth of your list : 4\n",
            "3\n",
            "55\n",
            "66\n",
            "88\n",
            "The List   [3, 55, 66, 88]\n",
            "Enter the number of elements to split  : 2\n",
            "The split list is : [3, 55]\n",
            "The List after split and add : [66, 88, 3, 55]\n"
          ]
        }
      ]
    },
    {
      "cell_type": "code",
      "source": [
        "# Ans no 5\n",
        "l = int(input(\"Enter the lenth of your list : \"))\n",
        "arr = []\n",
        "\n",
        "for i in range(l):\n",
        "    arr.append(int(input()))\n",
        "print(\"The List is \",arr)\n",
        "\n",
        "if all((arr[i] <= arr[i+1] for i in range(l-1)) or (arr[i] >= lst[i+1] for i in range(l-1))):\n",
        "    print(\"Monotonic\")\n",
        "else:\n",
        "    print(\"Not Monotonic\")"
      ],
      "metadata": {
        "colab": {
          "base_uri": "https://localhost:8080/"
        },
        "id": "3hMVZWoB1Mv9",
        "outputId": "b6565200-32c9-492f-8301-bb0517d507c5"
      },
      "execution_count": 7,
      "outputs": [
        {
          "output_type": "stream",
          "name": "stdout",
          "text": [
            "Enter the lenth of your list : 5\n",
            "3\n",
            "4\n",
            "2\n",
            "9\n",
            "5\n",
            "The List is  [3, 4, 2, 9, 5]\n",
            "Not Monotonic\n"
          ]
        }
      ]
    },
    {
      "cell_type": "code",
      "source": [],
      "metadata": {
        "id": "gpf_m4_41lM_"
      },
      "execution_count": null,
      "outputs": []
    }
  ]
}