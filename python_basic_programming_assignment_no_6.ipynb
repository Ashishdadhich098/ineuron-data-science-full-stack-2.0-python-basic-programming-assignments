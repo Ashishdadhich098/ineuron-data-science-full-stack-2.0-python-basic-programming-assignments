{
  "nbformat": 4,
  "nbformat_minor": 0,
  "metadata": {
    "colab": {
      "provenance": []
    },
    "kernelspec": {
      "name": "python3",
      "display_name": "Python 3"
    },
    "language_info": {
      "name": "python"
    }
  },
  "cells": [
    {
      "cell_type": "code",
      "execution_count": 1,
      "metadata": {
        "colab": {
          "base_uri": "https://localhost:8080/"
        },
        "id": "casR0x4ganoA",
        "outputId": "425e6ff5-73e0-41b8-eff7-4a76552a2e10"
      },
      "outputs": [
        {
          "output_type": "stream",
          "name": "stdout",
          "text": [
            "input no : 5\n",
            "0 1 1 2 3 "
          ]
        }
      ],
      "source": [
        "# Ans no 1:-\n",
        "def recurfib(n):\n",
        "    if n<=1:\n",
        "        return n\n",
        "    else:\n",
        "        return recurfib(n-1) + recurfib(n-2)\n",
        "\n",
        "num = int(input(\"input no : \"))\n",
        "\n",
        "if num <=0:\n",
        "    print(\"Please provide positive no.\")\n",
        "\n",
        "else:\n",
        "    for i in range(num):\n",
        "        print(recurfib(i) , end=\" \")\n",
        ""
      ]
    },
    {
      "cell_type": "code",
      "source": [
        "# Ans no 2:-\n",
        "def fact(n):\n",
        "    if n==0:\n",
        "        return 1\n",
        "    else:\n",
        "        return n * fact(n-1)\n",
        "\n",
        "num = int(input(\"input a no : \"))\n",
        "\n",
        "if num<0:\n",
        "    print(\"Enter positive no.\")\n",
        "else:\n",
        "\n",
        "        print(fact(num))\n"
      ],
      "metadata": {
        "colab": {
          "base_uri": "https://localhost:8080/"
        },
        "id": "vpI0eYU_gICL",
        "outputId": "41e7bacf-5cc4-45f3-b0ac-38a2427faaaa"
      },
      "execution_count": 2,
      "outputs": [
        {
          "output_type": "stream",
          "name": "stdout",
          "text": [
            "input a no : 5\n",
            "120\n"
          ]
        }
      ]
    },
    {
      "cell_type": "code",
      "source": [
        "# Ans no 3:-\n",
        "# BMI = weight / Height * height\n",
        "\n",
        "h = float(input(\"enter your height in feet : \"))\n",
        "w = float(input(\"enter your weight in kilo : \"))\n",
        "\n",
        "bmi = w/(h**2)\n",
        "\n",
        "print(\"The BIM is = \",bmi)"
      ],
      "metadata": {
        "colab": {
          "base_uri": "https://localhost:8080/"
        },
        "id": "8KApQEPYjmFr",
        "outputId": "5640be2e-5baa-4a09-82ca-10aff3613100"
      },
      "execution_count": 3,
      "outputs": [
        {
          "output_type": "stream",
          "name": "stdout",
          "text": [
            "enter your height in feet : 5.7\n",
            "enter your weight in kilo : 67\n",
            "The BIM is =  2.0621729763004\n"
          ]
        }
      ]
    },
    {
      "cell_type": "code",
      "source": [
        "# Ans no 4:-\n",
        "import math\n",
        "x = int(input((\"Enter a number : \")))\n",
        "log = math.log(x)\n",
        "print(\"Log of {} is {}\".format(x, log))"
      ],
      "metadata": {
        "colab": {
          "base_uri": "https://localhost:8080/"
        },
        "id": "zrH9iK7Fj0uS",
        "outputId": "86f2f145-cc7b-4f14-9756-34687aaf76f6"
      },
      "execution_count": 4,
      "outputs": [
        {
          "output_type": "stream",
          "name": "stdout",
          "text": [
            "Enter a number : 5\n",
            "Log of 5 is 1.6094379124341003\n"
          ]
        }
      ]
    },
    {
      "cell_type": "code",
      "source": [
        "# Ans no 5:-\n",
        "num = int(input(\"Enter a no :\"))\n",
        "sum = 0\n",
        "for i in range(1 , num+1):\n",
        "    sum = sum + i**3\n",
        "print(\"Cube sum of {} natural numbers is {}\".format(num,sum))"
      ],
      "metadata": {
        "colab": {
          "base_uri": "https://localhost:8080/"
        },
        "id": "ZaCh_7ANkhhp",
        "outputId": "5801ed5e-e29f-429e-b707-6ec0fd33a886"
      },
      "execution_count": 5,
      "outputs": [
        {
          "output_type": "stream",
          "name": "stdout",
          "text": [
            "Enter a no :5\n",
            "Cube sum of 5 natural numbers is 225\n"
          ]
        }
      ]
    },
    {
      "cell_type": "code",
      "source": [],
      "metadata": {
        "id": "CJund7LBklrH"
      },
      "execution_count": null,
      "outputs": []
    }
  ]
}