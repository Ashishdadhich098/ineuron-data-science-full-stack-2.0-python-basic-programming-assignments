{
  "nbformat": 4,
  "nbformat_minor": 0,
  "metadata": {
    "colab": {
      "provenance": []
    },
    "kernelspec": {
      "name": "python3",
      "display_name": "Python 3"
    },
    "language_info": {
      "name": "python"
    }
  },
  "cells": [
    {
      "cell_type": "code",
      "execution_count": 1,
      "metadata": {
        "colab": {
          "base_uri": "https://localhost:8080/"
        },
        "id": "rm667D8KHGhj",
        "outputId": "0ef07f0c-ad3d-4b98-e2f9-7da82b85e43d"
      },
      "outputs": [
        {
          "output_type": "stream",
          "name": "stdout",
          "text": [
            "Hello python\n"
          ]
        }
      ],
      "source": [
        "# Ans no 1:-\n",
        "print('Hello python')"
      ]
    },
    {
      "cell_type": "code",
      "source": [
        "# Ans no 2:-\n",
        "# for addition\n",
        "20+30"
      ],
      "metadata": {
        "colab": {
          "base_uri": "https://localhost:8080/"
        },
        "id": "4C_q1wuOF-0t",
        "outputId": "89245974-c78a-45a9-9c00-cfeedfc996ba"
      },
      "execution_count": 2,
      "outputs": [
        {
          "output_type": "execute_result",
          "data": {
            "text/plain": [
              "50"
            ]
          },
          "metadata": {},
          "execution_count": 2
        }
      ]
    },
    {
      "cell_type": "code",
      "source": [
        "# for division\n",
        "90/30"
      ],
      "metadata": {
        "colab": {
          "base_uri": "https://localhost:8080/"
        },
        "id": "REuPlMQpGP4A",
        "outputId": "28a83b96-887b-42ff-a0d2-25625934a666"
      },
      "execution_count": 3,
      "outputs": [
        {
          "output_type": "execute_result",
          "data": {
            "text/plain": [
              "3.0"
            ]
          },
          "metadata": {},
          "execution_count": 3
        }
      ]
    },
    {
      "cell_type": "code",
      "source": [
        "# Ans no 3:- As we now the area of triangle :- Area = (base * height) / 2\n",
        "base = 10\n",
        "height = 20\n",
        "Area_of_triangle = (base * height)/2"
      ],
      "metadata": {
        "id": "uXFrlINPGUTi"
      },
      "execution_count": 6,
      "outputs": []
    },
    {
      "cell_type": "code",
      "source": [
        "Area_of_triangle"
      ],
      "metadata": {
        "colab": {
          "base_uri": "https://localhost:8080/"
        },
        "id": "hYDEM3viHDB7",
        "outputId": "336366ab-e9eb-490a-ed5f-884e89bb0624"
      },
      "execution_count": 7,
      "outputs": [
        {
          "output_type": "execute_result",
          "data": {
            "text/plain": [
              "100.0"
            ]
          },
          "metadata": {},
          "execution_count": 7
        }
      ]
    },
    {
      "cell_type": "code",
      "source": [
        "# Ans no 4:-\n",
        "\n",
        "a=10\n",
        "b=20\n",
        "\n",
        "# swaping the values\n",
        "temp=a\n",
        "a=b\n",
        "b=temp\n",
        "print(a)\n",
        "print(b)"
      ],
      "metadata": {
        "colab": {
          "base_uri": "https://localhost:8080/"
        },
        "id": "3qdErL-mHjI7",
        "outputId": "8875de00-ce7e-4db3-a1f3-47e67f8d4966"
      },
      "execution_count": 12,
      "outputs": [
        {
          "output_type": "stream",
          "name": "stdout",
          "text": [
            "20\n",
            "10\n"
          ]
        }
      ]
    },
    {
      "cell_type": "code",
      "source": [
        "# Ans 5:-\n",
        "import random\n",
        "\n",
        "# random integer number between 1 to 100\n",
        "random_number = random.randint(1 ,100)\n",
        "print(random_number)\n",
        "\n",
        "# random floting number between 1 to 100\n",
        "float_number =random.random()\n",
        "print(float_number)"
      ],
      "metadata": {
        "colab": {
          "base_uri": "https://localhost:8080/"
        },
        "id": "mZWEGDR4IWqV",
        "outputId": "cd0a4699-9f7a-4e8e-97d7-a5bc4da5c35d"
      },
      "execution_count": 17,
      "outputs": [
        {
          "output_type": "stream",
          "name": "stdout",
          "text": [
            "26\n",
            "0.8909975054194358\n"
          ]
        }
      ]
    },
    {
      "cell_type": "code",
      "source": [],
      "metadata": {
        "id": "u8JePyddJ7Gl"
      },
      "execution_count": null,
      "outputs": []
    }
  ]
}