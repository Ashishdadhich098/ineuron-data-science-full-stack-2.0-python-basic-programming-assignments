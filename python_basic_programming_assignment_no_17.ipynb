{
  "nbformat": 4,
  "nbformat_minor": 0,
  "metadata": {
    "colab": {
      "provenance": []
    },
    "kernelspec": {
      "name": "python3",
      "display_name": "Python 3"
    },
    "language_info": {
      "name": "python"
    }
  },
  "cells": [
    {
      "cell_type": "code",
      "execution_count": 1,
      "metadata": {
        "id": "PaXqCjlIReXr",
        "colab": {
          "base_uri": "https://localhost:8080/"
        },
        "outputId": "e94a4e89-8b30-4017-d671-80c43ef41868"
      },
      "outputs": [
        {
          "output_type": "stream",
          "name": "stdout",
          "text": [
            "Enter a : 1\n",
            "Enter b : 10\n",
            "Enter c : 2\n",
            "30\n"
          ]
        }
      ],
      "source": [
        "#Ans no 1:-\n",
        "def abc(a, b, c):\n",
        "    sum = 0\n",
        "    for i in range(a, b + 1):\n",
        "        if (i % c == 0):\n",
        "            sum += i\n",
        "    return sum\n",
        "a = int(input('Enter a : '))\n",
        "b = int(input('Enter b : '))\n",
        "c = int(input('Enter c : '))\n",
        "print(abc(a, b, c))\n"
      ]
    },
    {
      "cell_type": "code",
      "source": [
        "# Ans no 2:-\n",
        "def correct_signs ( txt ) :\n",
        "    return eval ( txt )\n",
        "print(correct_signs(\"3 > 7 < 11\"))\n",
        "print(correct_signs(\"13 > 44 > 33 > 1\"))\n",
        "print(correct_signs(\"1 < 2 < 6 < 9 > 3\"))"
      ],
      "metadata": {
        "colab": {
          "base_uri": "https://localhost:8080/"
        },
        "id": "ptgUYOINXVnR",
        "outputId": "12f63af6-1eda-4518-8e12-69ee92a12a9f"
      },
      "execution_count": 2,
      "outputs": [
        {
          "output_type": "stream",
          "name": "stdout",
          "text": [
            "False\n",
            "False\n",
            "True\n"
          ]
        }
      ]
    },
    {
      "cell_type": "code",
      "source": [
        "# Ans no 3:-\n",
        "\n",
        "def replace_vowels(str, s):\n",
        "    vowels = 'AEIOUaeiou'\n",
        "    for ele in vowels:\n",
        "        str = str.replace(ele, s)\n",
        "    return str\n",
        "\n",
        "input_str = input(\"enter a string : \")\n",
        "s = input(\"enter a vowel replacing string : \")\n",
        "print(\"\\nGiven Sting:\", input_str)\n",
        "print(\"Given Specified Character:\", s)\n",
        "print(\"Afer replacing vowels with the specified character:\",replace_vowels(input_str, s))"
      ],
      "metadata": {
        "colab": {
          "base_uri": "https://localhost:8080/"
        },
        "id": "xDc5PEo-X9OI",
        "outputId": "7907b523-f594-4777-af5d-75f9a457c78b"
      },
      "execution_count": 4,
      "outputs": [
        {
          "output_type": "stream",
          "name": "stdout",
          "text": [
            "enter a string : Ashish \n",
            "enter a vowel replacing string : #\n",
            "\n",
            "Given Sting: Ashish \n",
            "Given Specified Character: #\n",
            "Afer replacing vowels with the specified character: #sh#sh \n"
          ]
        }
      ]
    },
    {
      "cell_type": "code",
      "source": [
        "# Ans no 4:-\n",
        "def factorial(n):\n",
        "    if n == 0:\n",
        "        return 1\n",
        "    return n * factorial(n-1)\n",
        "\n",
        "num = int(input('enter a number :'))\n",
        "print(\"Factorial of\", num, \"is\", factorial(num))"
      ],
      "metadata": {
        "colab": {
          "base_uri": "https://localhost:8080/"
        },
        "id": "Yu_HK7RZY862",
        "outputId": "e7ab44c3-e8c1-4759-8310-f5157859a042"
      },
      "execution_count": 5,
      "outputs": [
        {
          "output_type": "stream",
          "name": "stdout",
          "text": [
            "enter a number :5\n",
            "Factorial of 5 is 120\n"
          ]
        }
      ]
    },
    {
      "cell_type": "code",
      "source": [
        "# Ans no 5:-\n",
        "def hamming_distance(str1, str2):\n",
        "    i = 0\n",
        "    count = 0\n",
        "\n",
        "    while(i < len(str1)):\n",
        "        if(str1[i] != str2[i]):\n",
        "            count += 1\n",
        "        i += 1\n",
        "    return count\n",
        "\n",
        "\n",
        "str1 = \"abcde\"\n",
        "str2 = \"bcdef\"\n",
        "\n",
        "print(hamming_distance(str1, str2))"
      ],
      "metadata": {
        "colab": {
          "base_uri": "https://localhost:8080/"
        },
        "id": "dh6OMkcsZgDI",
        "outputId": "5c3b8091-a8fc-4af8-b324-4529570bbd39"
      },
      "execution_count": 6,
      "outputs": [
        {
          "output_type": "stream",
          "name": "stdout",
          "text": [
            "5\n"
          ]
        }
      ]
    },
    {
      "cell_type": "code",
      "source": [
        "print(hamming_distance('strong', 'strung'))\n"
      ],
      "metadata": {
        "colab": {
          "base_uri": "https://localhost:8080/"
        },
        "id": "rdDMXZ2caAiR",
        "outputId": "7e8c15b3-c96b-459e-dfa4-f57c67c246bf"
      },
      "execution_count": 7,
      "outputs": [
        {
          "output_type": "stream",
          "name": "stdout",
          "text": [
            "1\n"
          ]
        }
      ]
    }
  ]
}