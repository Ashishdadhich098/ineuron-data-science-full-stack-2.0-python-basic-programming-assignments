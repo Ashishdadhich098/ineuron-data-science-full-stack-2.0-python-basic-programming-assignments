{
  "nbformat": 4,
  "nbformat_minor": 0,
  "metadata": {
    "colab": {
      "provenance": []
    },
    "kernelspec": {
      "name": "python3",
      "display_name": "Python 3"
    },
    "language_info": {
      "name": "python"
    }
  },
  "cells": [
    {
      "cell_type": "code",
      "execution_count": 1,
      "metadata": {
        "colab": {
          "base_uri": "https://localhost:8080/"
        },
        "id": "YF2njBVi11m5",
        "outputId": "758fd14d-ec78-4bfc-bcc6-c3789153d73a"
      },
      "outputs": [
        {
          "output_type": "stream",
          "name": "stdout",
          "text": [
            "The Sum of two matrix \n",
            "\n",
            "[[ 1  4  6]\n",
            " [ 7  5 88]\n",
            " [ 8  5 77]]  and \n",
            "\n",
            "[[12 43 74]\n",
            " [ 5  8  3]\n",
            " [ 8  9  9]]  is \n",
            "\n",
            "[[13 47 80]\n",
            " [12 13 91]\n",
            " [16 14 86]] \n"
          ]
        }
      ],
      "source": [
        "# Ans no 1:-\n",
        "import numpy as np\n",
        "\n",
        "mat1 = np.array([[1,4,6],\n",
        "        [7,5,88],\n",
        "        [8,5,77]])\n",
        "mat2 = np.array([[12,43,74],\n",
        "        [5,8,3],\n",
        "        [8,9,9]])\n",
        "\n",
        "Matsum = np.add(mat1,mat2)\n",
        "print(\"The Sum of two matrix \\n\\n{}  and \\n\\n{}  is \\n\\n{} \".format(mat1,mat2,Matsum))"
      ]
    },
    {
      "cell_type": "code",
      "source": [
        "# Ans no  2:-\n",
        "import numpy as np\n",
        "\n",
        "mat1 = np.array([[13,42,64],\n",
        "        [3,7,4],\n",
        "        [9,1,2]])\n",
        "mat2 = np.array([[2,4,7],\n",
        "        [55,67,8],\n",
        "        [8,9,1]])\n",
        "\n",
        "mulMat = np.dot(mat1,mat2)\n",
        "print(\"The product of two matrix \\n\\n{}  and \\n\\n{}  is \\n\\n{} \".format(mat1,mat2,mulMat))"
      ],
      "metadata": {
        "colab": {
          "base_uri": "https://localhost:8080/"
        },
        "id": "PGsO8WJY4LRa",
        "outputId": "24179498-6dd2-4f28-a100-72a0cd9fa768"
      },
      "execution_count": 2,
      "outputs": [
        {
          "output_type": "stream",
          "name": "stdout",
          "text": [
            "The product of two matrix \n",
            "\n",
            "[[13 42 64]\n",
            " [ 3  7  4]\n",
            " [ 9  1  2]]  and \n",
            "\n",
            "[[ 2  4  7]\n",
            " [55 67  8]\n",
            " [ 8  9  1]]  is \n",
            "\n",
            "[[2848 3442  491]\n",
            " [ 423  517   81]\n",
            " [  89  121   73]] \n"
          ]
        }
      ]
    },
    {
      "cell_type": "code",
      "source": [
        "# Ans no 3:-\n",
        "def transpose_matrix(matrix):\n",
        "    rows = len(matrix)\n",
        "    columns = len(matrix[0])\n",
        "\n",
        "    #a new matrix with swapped rows and columns\n",
        "    transposed_matrix = [[0 for _ in range(rows)] for _ in range(columns)]\n",
        "\n",
        "    for i in range(rows):\n",
        "        for j in range(columns):\n",
        "            transposed_matrix[j][i] = matrix[i][j]\n",
        "\n",
        "    return transposed_matrix\n",
        "\n",
        "\n",
        "# Example usage\n",
        "matrix = [[1, 2, 3], [4, 5, 6], [7, 8, 9]]\n",
        "\n",
        "print(\"Original Matrix:\")\n",
        "for row in matrix:\n",
        "    print(row)\n",
        "\n",
        "transposed = transpose_matrix(matrix)\n",
        "\n",
        "print(\"Transposed Matrix:\")\n",
        "for row in transposed:\n",
        "    print(row)"
      ],
      "metadata": {
        "colab": {
          "base_uri": "https://localhost:8080/"
        },
        "id": "y95oiBT65ZqC",
        "outputId": "bf60fef2-eba8-49c4-c144-aa7be0c8a709"
      },
      "execution_count": 4,
      "outputs": [
        {
          "output_type": "stream",
          "name": "stdout",
          "text": [
            "Original Matrix:\n",
            "[1, 2, 3]\n",
            "[4, 5, 6]\n",
            "[7, 8, 9]\n",
            "Transposed Matrix:\n",
            "[1, 4, 7]\n",
            "[2, 5, 8]\n",
            "[3, 6, 9]\n"
          ]
        }
      ]
    },
    {
      "cell_type": "code",
      "source": [
        "# Ans no 4:-\n",
        "Arr = input(\"Enter string:\")\n",
        "\n",
        "words = Arr.split()\n",
        "words.sort()\n",
        "for word in words:\n",
        "    print(word)"
      ],
      "metadata": {
        "colab": {
          "base_uri": "https://localhost:8080/"
        },
        "id": "GYQnGZ7751KK",
        "outputId": "6deb10d2-0f44-489d-d498-612e9e21dc07"
      },
      "execution_count": 5,
      "outputs": [
        {
          "output_type": "stream",
          "name": "stdout",
          "text": [
            "Enter string:python is best\n",
            "best\n",
            "is\n",
            "python\n"
          ]
        }
      ]
    },
    {
      "cell_type": "code",
      "source": [
        "# Ans no 5:-\n",
        "punctuations = '''!()-[]{};:'\"\\,<>./?@#$%^&*_~'''\n",
        "\n",
        "Arr = input(\"Enter a string with punctuations\")\n",
        "\n",
        "\n",
        "rem_punc = \"\"\n",
        "for i in Arr:\n",
        "    if i not in punctuations:\n",
        "        rem_punc = rem_punc + i\n",
        "\n",
        "# display\n",
        "print(rem_punc)"
      ],
      "metadata": {
        "colab": {
          "base_uri": "https://localhost:8080/"
        },
        "id": "T9Tkmjcl6MbU",
        "outputId": "7ce828d6-17b5-4e07-f2e5-f8b2924f0f60"
      },
      "execution_count": 7,
      "outputs": [
        {
          "output_type": "stream",
          "name": "stdout",
          "text": [
            "Enter a string with punctuations'''!()-[]{};:'\"\\,<>./?@#$%^&*_\n",
            "\n"
          ]
        }
      ]
    },
    {
      "cell_type": "code",
      "source": [],
      "metadata": {
        "id": "iuXzAsb_6jVo"
      },
      "execution_count": null,
      "outputs": []
    }
  ]
}