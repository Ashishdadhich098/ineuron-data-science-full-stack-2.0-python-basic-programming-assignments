{
  "nbformat": 4,
  "nbformat_minor": 0,
  "metadata": {
    "colab": {
      "provenance": []
    },
    "kernelspec": {
      "name": "python3",
      "display_name": "Python 3"
    },
    "language_info": {
      "name": "python"
    }
  },
  "cells": [
    {
      "cell_type": "code",
      "execution_count": 1,
      "metadata": {
        "colab": {
          "base_uri": "https://localhost:8080/"
        },
        "id": "6f66Zs6juneu",
        "outputId": "7eca6460-e158-46c2-f87f-fc545bf7ec7b"
      },
      "outputs": [
        {
          "output_type": "stream",
          "name": "stdout",
          "text": [
            "enter n : 45\n",
            "0\n",
            "7\n",
            "14\n",
            "21\n",
            "28\n",
            "35\n",
            "42\n"
          ]
        }
      ],
      "source": [
        "# Ans no 1:-\n",
        "def gen(n):\n",
        "\n",
        "  for i in range(0,n):\n",
        "    if i%7==0:\n",
        "      print(i)\n",
        "n = int(input('enter n : '))\n",
        "gen(n)\n",
        "\n"
      ]
    },
    {
      "cell_type": "code",
      "source": [
        "# Ans no 2:-\n",
        "Sentence = input('Enter the sentence ').split()\n",
        "word = sorted(set(Sentence))     # sort alphbetically\n",
        "\n",
        "for i in word:\n",
        "    print(\"{0}:{1}\".format(i,Sentence.count(i)))"
      ],
      "metadata": {
        "colab": {
          "base_uri": "https://localhost:8080/"
        },
        "id": "wHR5t-j2wuH2",
        "outputId": "38cf4073-cbe5-4baf-cba3-ac1b262fcbc4"
      },
      "execution_count": 3,
      "outputs": [
        {
          "output_type": "stream",
          "name": "stdout",
          "text": [
            "Enter the sentence hello welcome to the calss of python\n",
            "calss:1\n",
            "hello:1\n",
            "of:1\n",
            "python:1\n",
            "the:1\n",
            "to:1\n",
            "welcome:1\n"
          ]
        }
      ]
    },
    {
      "cell_type": "code",
      "source": [
        "# Ans no 3:-\n",
        "class Person(object):\n",
        "    def getGender( self ):\n",
        "        return \"None\"\n",
        "\n",
        "class Male( Person ):\n",
        "    def getGender( self ):\n",
        "        return \"Male\"\n",
        "\n",
        "class Female( Person ):\n",
        "    def getGender( self ):\n",
        "        return \"Female\"\n",
        "\n",
        "ob_male = Male()\n",
        "ob_female= Female()\n",
        "print(ob_male.getGender())\n",
        "print(ob_female.getGender())\n",
        ""
      ],
      "metadata": {
        "colab": {
          "base_uri": "https://localhost:8080/"
        },
        "id": "6c8XfRmMxWP5",
        "outputId": "a5c8a4ee-552f-488c-c177-3f7d7e5f055e"
      },
      "execution_count": 4,
      "outputs": [
        {
          "output_type": "stream",
          "name": "stdout",
          "text": [
            "Male\n",
            "Female\n"
          ]
        }
      ]
    },
    {
      "cell_type": "code",
      "source": [
        "# Ans no 4:-\n",
        "subject=[\"I\", \"You\"]\n",
        "verb=[\"Play\", \"Love\"]\n",
        "obj=[\"Hockey\",\"Football\"]\n",
        "\n",
        "\n",
        "str_list = [(sub+\" \"+ vb + \" \" + ob) for sub in subject for vb in verb for ob in obj]\n",
        "for sentence in str_list:\n",
        "    print(sentence)"
      ],
      "metadata": {
        "colab": {
          "base_uri": "https://localhost:8080/"
        },
        "id": "kYxpzgw4x38U",
        "outputId": "01112e80-af89-45eb-9ade-c1ae9c26fa0a"
      },
      "execution_count": 5,
      "outputs": [
        {
          "output_type": "stream",
          "name": "stdout",
          "text": [
            "I Play Hockey\n",
            "I Play Football\n",
            "I Love Hockey\n",
            "I Love Football\n",
            "You Play Hockey\n",
            "You Play Football\n",
            "You Love Hockey\n",
            "You Love Football\n"
          ]
        }
      ]
    },
    {
      "cell_type": "code",
      "source": [
        "# Ans no 5:-\n",
        "\n",
        "import zlib\n",
        "str = 'hello world!hello world!hello world!hello world!'\n",
        "\n",
        "a = bytes(str, 'utf-8')\n",
        "b = zlib.compress(a)\n",
        "print(b)\n",
        "print(zlib.decompress(b))\n",
        ""
      ],
      "metadata": {
        "colab": {
          "base_uri": "https://localhost:8080/"
        },
        "id": "L6tcQRztyEhe",
        "outputId": "8e5a36fa-7322-43d3-e2e0-54d8858cd370"
      },
      "execution_count": 6,
      "outputs": [
        {
          "output_type": "stream",
          "name": "stdout",
          "text": [
            "b'x\\x9c\\xcbH\\xcd\\xc9\\xc9W(\\xcf/\\xcaIQ\\xcc \\x82\\r\\x00\\xbd[\\x11\\xf5'\n",
            "b'hello world!hello world!hello world!hello world!'\n"
          ]
        }
      ]
    },
    {
      "cell_type": "code",
      "source": [
        "# Ans no 6:-\n",
        "from bisect import bisect_left\n",
        "\n",
        "def BinarySearch(a, x):\n",
        "    i = bisect_left(a, x)\n",
        "    if i != len(a) and a[i] == x:\n",
        "        return i\n",
        "    else:\n",
        "        return -1\n",
        "\n",
        "a = [1, 2, 4, 4, 8]\n",
        "x = int(4)\n",
        "res = BinarySearch(a, x)\n",
        "if res == -1:\n",
        "    print(x, \"is absent\")\n",
        "else:\n",
        "    print(\"First occurrence of\", x, \"is present at\", res)"
      ],
      "metadata": {
        "colab": {
          "base_uri": "https://localhost:8080/"
        },
        "id": "0qNYZgwAyY9S",
        "outputId": "263f39a8-6496-45f6-dffb-ddedfe352471"
      },
      "execution_count": 7,
      "outputs": [
        {
          "output_type": "stream",
          "name": "stdout",
          "text": [
            "First occurrence of 4 is present at 2\n"
          ]
        }
      ]
    },
    {
      "cell_type": "code",
      "source": [],
      "metadata": {
        "id": "kZhIGxeSy0aN"
      },
      "execution_count": null,
      "outputs": []
    }
  ]
}