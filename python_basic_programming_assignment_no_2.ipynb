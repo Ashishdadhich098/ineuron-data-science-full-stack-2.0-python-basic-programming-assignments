{
  "nbformat": 4,
  "nbformat_minor": 0,
  "metadata": {
    "colab": {
      "provenance": []
    },
    "kernelspec": {
      "name": "python3",
      "display_name": "Python 3"
    },
    "language_info": {
      "name": "python"
    }
  },
  "cells": [
    {
      "cell_type": "code",
      "execution_count": 3,
      "metadata": {
        "colab": {
          "base_uri": "https://localhost:8080/"
        },
        "id": "Tvs4lHiCK0es",
        "outputId": "c2f949ed-03f9-47e3-a0dd-38b24d32242e"
      },
      "outputs": [
        {
          "output_type": "stream",
          "name": "stdout",
          "text": [
            "10\n",
            "6.2\n"
          ]
        }
      ],
      "source": [
        " # Ans no 1:-\n",
        " # to convert km in miles we know that km*.62 = 1 mile\n",
        "km =int(input())\n",
        "miles = km*0.62\n",
        "print(miles)"
      ]
    },
    {
      "cell_type": "code",
      "source": [
        "# Ans no 2:- to convert  Celsius to Fahrenheit we know Fahrenheit = (Celsius * 9/5) + 32\n",
        "Celsius = int(input('enter celsius :'))\n",
        "Fahrenheit = (Celsius * 9/5) + 32\n",
        "print(Fahrenheit)"
      ],
      "metadata": {
        "colab": {
          "base_uri": "https://localhost:8080/"
        },
        "id": "xO1E5MNrKzZl",
        "outputId": "f99d6a2d-3056-4968-d08b-bd402e5f7760"
      },
      "execution_count": 10,
      "outputs": [
        {
          "output_type": "stream",
          "name": "stdout",
          "text": [
            "enter celsius :10\n",
            "50.0\n"
          ]
        }
      ]
    },
    {
      "cell_type": "code",
      "source": [
        "#Ans no 3:-\n",
        "import calendar\n",
        "yy=int(input('year:'))\n",
        "mm=int(input('month:'))\n",
        "print(calendar.month(yy,mm))"
      ],
      "metadata": {
        "colab": {
          "base_uri": "https://localhost:8080/"
        },
        "id": "fPDoCklwPY6C",
        "outputId": "dcd64f0c-f879-4cab-aca4-a79ddb0ba156"
      },
      "execution_count": 14,
      "outputs": [
        {
          "output_type": "stream",
          "name": "stdout",
          "text": [
            "year:2022\n",
            "month:7\n",
            "     July 2022\n",
            "Mo Tu We Th Fr Sa Su\n",
            "             1  2  3\n",
            " 4  5  6  7  8  9 10\n",
            "11 12 13 14 15 16 17\n",
            "18 19 20 21 22 23 24\n",
            "25 26 27 28 29 30 31\n",
            "\n"
          ]
        }
      ]
    },
    {
      "cell_type": "code",
      "source": [
        "# Ans no 4:-  As we know quardatic equation is x=-b+-sqrt(b**2-4ac)/2*a\n",
        "import cmath\n",
        "a=int(input(\"Enter a = \"))\n",
        "b=int(input(\"Enter b = \"))\n",
        "c=int(input(\"Enter c = \"))\n",
        "discriminant = (b**2)-(4*a*c)\n",
        "sol_one = (-b+cmath.sqrt(discriminant))/(2*a)\n",
        "sol_two = (-b-cmath.sqrt(discriminant))/(2*a)\n",
        "print(sol_one ,\",\", sol_two)5\n"
      ],
      "metadata": {
        "colab": {
          "base_uri": "https://localhost:8080/"
        },
        "id": "V3PQVVrrSEvU",
        "outputId": "0222e054-3a63-494b-afb4-e1fc4551202a"
      },
      "execution_count": 16,
      "outputs": [
        {
          "output_type": "stream",
          "name": "stdout",
          "text": [
            "Enter a = 1\n",
            "Enter b = 5\n",
            "Enter c = 6\n",
            "(-2+0j) , (-3+0j)\n"
          ]
        }
      ]
    },
    {
      "cell_type": "code",
      "source": [
        "# Ans no 5:-\n",
        "first_variable = int(input(\"First Variable =\"))\n",
        "second_variable = int(input(\"Second Variable =\"))\n",
        "print(\"First Variable Before swap  : {} \\n Second variable Before Swap  : {}\".format(first_variable,second_variable))\n",
        "first_variable , second_variable = second_variable , first_variable\n",
        "\n",
        "print(\"After Swap : \\n First Variabe : {} \\n  Second Variable : {}\".format(first_variable , second_variable))"
      ],
      "metadata": {
        "colab": {
          "base_uri": "https://localhost:8080/"
        },
        "id": "p_iSLYpXUetb",
        "outputId": "909055ea-7dcb-4281-e09e-0678ac1892b2"
      },
      "execution_count": 17,
      "outputs": [
        {
          "output_type": "stream",
          "name": "stdout",
          "text": [
            "First Variable =3\n",
            "Second Variable =5\n",
            "First Variable Before swap  : 3 \n",
            " Second variable Before Swap  : 5\n",
            "After Swap : \n",
            " First Variabe : 5 \n",
            "  Second Variable : 3\n"
          ]
        }
      ]
    },
    {
      "cell_type": "code",
      "source": [],
      "metadata": {
        "id": "wUnXN83GU-cW"
      },
      "execution_count": 17,
      "outputs": []
    }
  ]
}