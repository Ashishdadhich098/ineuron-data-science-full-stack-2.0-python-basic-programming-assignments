{
  "nbformat": 4,
  "nbformat_minor": 0,
  "metadata": {
    "colab": {
      "provenance": []
    },
    "kernelspec": {
      "name": "python3",
      "display_name": "Python 3"
    },
    "language_info": {
      "name": "python"
    }
  },
  "cells": [
    {
      "cell_type": "code",
      "execution_count": 1,
      "metadata": {
        "colab": {
          "base_uri": "https://localhost:8080/"
        },
        "id": "jhpL9xjqhpG5",
        "outputId": "3e8b871b-54e8-426c-a21f-7a8b7e817028"
      },
      "outputs": [
        {
          "output_type": "stream",
          "name": "stdout",
          "text": [
            "unique values are: {64, 1, 66, 3, 0, 4, 7, 8, 45, 47, 17, 81, 21}\n"
          ]
        }
      ],
      "source": [
        "# Ans no 1:-\n",
        "dict1 = {'a' : [3, 64, 17, 66],\n",
        "             'b' : [1, 21, 47, 45],\n",
        "             'c' : [0, 17, 7, 81],\n",
        "             'd' : [3, 3, 4,8]}\n",
        "\n",
        "un_val = set([ele for val in dict1.values() for ele in val])\n",
        "print(\"unique values are: {}\".format(un_val))\n"
      ]
    },
    {
      "cell_type": "code",
      "source": [
        "# Ans no 2:-\n",
        "dict2 = {'a' : 22,\n",
        "             'b' :  21,\n",
        "             'c' : 52,\n",
        "             'd' : 56}\n",
        "\n",
        "sum = 0\n",
        "for i in dict2.values():\n",
        "    sum +=sum + i\n",
        "print(\"Sun of all items: {}\".format(sum))"
      ],
      "metadata": {
        "colab": {
          "base_uri": "https://localhost:8080/"
        },
        "id": "iCh7mra3jKoW",
        "outputId": "983e2b79-982d-4196-e0a5-d492a7e04449"
      },
      "execution_count": 2,
      "outputs": [
        {
          "output_type": "stream",
          "name": "stdout",
          "text": [
            "Sun of all items: 420\n"
          ]
        }
      ]
    },
    {
      "cell_type": "code",
      "source": [
        "# Ans no 3:-\n",
        "one = { 'x': 2, 'y': 3}\n",
        "two = { 'y': 5, 'z': 6}\n",
        "both = one.copy()\n",
        "both.update(two)\n",
        "print(\"dict a : \", one)\n",
        "print(\"Dict b : \", two)\n",
        "print('updated dictionary : {}'.format(both))\n",
        ""
      ],
      "metadata": {
        "colab": {
          "base_uri": "https://localhost:8080/"
        },
        "id": "WwcKLNN8lTQg",
        "outputId": "0a56571b-71cc-464f-c769-033a3bf6621c"
      },
      "execution_count": 7,
      "outputs": [
        {
          "output_type": "stream",
          "name": "stdout",
          "text": [
            "dict a :  {'x': 2, 'y': 3}\n",
            "Dict b :  {'y': 5, 'z': 6}\n",
            "updated dictionary : {'x': 2, 'y': 5, 'z': 6}\n"
          ]
        }
      ]
    },
    {
      "cell_type": "code",
      "source": [
        "# Ans no 4:-\n",
        "\n",
        "test_dict = {'month' : [1, 2, 3],\n",
        "             'name' : ['Jan', 'Feb', 'March']}\n",
        "\n",
        "# printing original dictionary\n",
        "print(\"The original dictionary is : \" + str(test_dict))\n",
        "\n",
        "# Convert key-values list to flat dictionary\n",
        "# Using dict() + zip()\n",
        "res = dict(zip(test_dict['month'], test_dict['name']))\n",
        "\n",
        "# printing result\n",
        "print(\"Flattened dictionary : \" + str(res))\n",
        "\n"
      ],
      "metadata": {
        "colab": {
          "base_uri": "https://localhost:8080/"
        },
        "id": "sQwZK97HjzlH",
        "outputId": "3b8ce1b5-e5b6-420f-ee19-081ac7b2909a"
      },
      "execution_count": 8,
      "outputs": [
        {
          "output_type": "stream",
          "name": "stdout",
          "text": [
            "The original dictionary is : {'month': [1, 2, 3], 'name': ['Jan', 'Feb', 'March']}\n",
            "Flattened dictionary : {1: 'Jan', 2: 'Feb', 3: 'March'}\n"
          ]
        }
      ]
    },
    {
      "cell_type": "code",
      "source": [
        "# Ans no 5:-\n",
        "# insertion of items in beginning of ordered dict\n",
        "from collections import OrderedDict\n",
        "\n",
        "# initialising ordered_dict\n",
        "iniordered_dict = OrderedDict([('Feb', '2'), ('Mar', '3')])\n",
        "\n",
        "# inserting items in starting of dict\n",
        "iniordered_dict.update({'Jan':'1'})\n",
        "iniordered_dict.move_to_end('Jan', last = False)\n",
        "\n",
        "# print result\n",
        "print (\"Ordered Dictionary  : \"+str(iniordered_dict))"
      ],
      "metadata": {
        "colab": {
          "base_uri": "https://localhost:8080/"
        },
        "id": "oZKg-XkLkMQH",
        "outputId": "9e5d480b-8441-43f5-d647-4346717b7fca"
      },
      "execution_count": 10,
      "outputs": [
        {
          "output_type": "stream",
          "name": "stdout",
          "text": [
            "Ordered Dictionary  : OrderedDict([('Jan', '1'), ('Feb', '2'), ('Mar', '3')])\n"
          ]
        }
      ]
    },
    {
      "cell_type": "code",
      "source": [
        "# Ans no 6:-\n",
        "from collections import OrderedDict\n",
        "\n",
        "def checkOrderofString(str, pattern):\n",
        "\n",
        "    # create empty OrderedDict\n",
        "    dict = OrderedDict.fromkeys(str)\n",
        "    print(dict)\n",
        "    ptrlen = 0\n",
        "    for key,value in dict.items():\n",
        "\n",
        "        if (key == pattern[ptrlen]):\n",
        "            ptrlen = ptrlen + 1\n",
        "\n",
        "        # check if we have traverse complete pattern string\n",
        "        if (ptrlen == (len(pattern))):\n",
        "            return 'true'\n",
        "\n",
        "    # if we come out from for loop that means order was mismatched\n",
        "    return 'false'\n",
        "\n",
        "\n",
        "string = input(\"enter string : \")\n",
        "pattern = input(\"Enter Pattern : \")\n",
        "if checkOrderofString(string,pattern):\n",
        "    print(\"Pattern matched\")\n",
        "else:\n",
        "    print(\"Pattern not matched\")\n",
        ""
      ],
      "metadata": {
        "colab": {
          "base_uri": "https://localhost:8080/"
        },
        "id": "WciaLT3okWWw",
        "outputId": "eb925f54-b48e-484d-82dd-502254990607"
      },
      "execution_count": 11,
      "outputs": [
        {
          "output_type": "stream",
          "name": "stdout",
          "text": [
            "enter string : Ashish\n",
            "Enter Pattern : As\n",
            "OrderedDict([('A', None), ('s', None), ('h', None), ('i', None)])\n",
            "Pattern matched\n"
          ]
        }
      ]
    },
    {
      "cell_type": "code",
      "source": [
        "# Ans no 7:-\n",
        "\n",
        "dict= {4:5 ,7:8 ,4:3 ,6:9 ,9:5 ,4:2 }\n",
        "#Print sorted list of keys\n",
        "print(sorted(dict.keys()))\n",
        "#Print sorted list of items\n",
        "print(sorted(dict.items()))\n",
        ""
      ],
      "metadata": {
        "colab": {
          "base_uri": "https://localhost:8080/"
        },
        "id": "Tc2VCaZMkzrY",
        "outputId": "4a3b82a4-de0f-47ca-b4c2-deb35fb37ad9"
      },
      "execution_count": 12,
      "outputs": [
        {
          "output_type": "stream",
          "name": "stdout",
          "text": [
            "[4, 6, 7, 9]\n",
            "[(4, 2), (6, 9), (7, 8), (9, 5)]\n"
          ]
        }
      ]
    },
    {
      "cell_type": "code",
      "source": [
        "dic2 = {4:5 ,7:8 ,4:3 ,6:9 ,9:5 ,4:2 }\n",
        "print(sorted(dic2.values()))\n",
        "#Print sorted list of values\n",
        ""
      ],
      "metadata": {
        "colab": {
          "base_uri": "https://localhost:8080/"
        },
        "id": "2d0J9sAhlxFU",
        "outputId": "ac87004c-afb5-4f28-d90f-9dad98b28fdf"
      },
      "execution_count": 13,
      "outputs": [
        {
          "output_type": "stream",
          "name": "stdout",
          "text": [
            "[2, 5, 8, 9]\n"
          ]
        }
      ]
    },
    {
      "cell_type": "code",
      "source": [],
      "metadata": {
        "id": "oFZPTl2tl0sa"
      },
      "execution_count": null,
      "outputs": []
    }
  ]
}