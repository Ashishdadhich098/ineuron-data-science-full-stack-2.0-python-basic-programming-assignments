{
  "nbformat": 4,
  "nbformat_minor": 0,
  "metadata": {
    "colab": {
      "provenance": []
    },
    "kernelspec": {
      "name": "python3",
      "display_name": "Python 3"
    },
    "language_info": {
      "name": "python"
    }
  },
  "cells": [
    {
      "cell_type": "code",
      "execution_count": 8,
      "metadata": {
        "colab": {
          "base_uri": "https://localhost:8080/"
        },
        "id": "QwSV3pyrVsSH",
        "outputId": "3cd3f1c1-bd7c-40f9-d48f-81719bb698bf"
      },
      "outputs": [
        {
          "output_type": "stream",
          "name": "stdout",
          "text": [
            "-1\n",
            "this is a negetive number: \n"
          ]
        }
      ],
      "source": [
        "# Ans no 1:-\n",
        "x = int(input())\n",
        "if x >0:\n",
        "  print(\"this is a positive number:\")\n",
        "elif x<0:\n",
        "    print(\"this is a negetive number: \")\n",
        "else:\n",
        "    print('its a zero:')"
      ]
    },
    {
      "cell_type": "code",
      "source": [
        "# Ans no 2:-\n",
        "x = int(input())\n",
        "if x%2 :\n",
        "  print(\"its an even number\")\n",
        "else:\n",
        "  print(\"its an odd number\")"
      ],
      "metadata": {
        "colab": {
          "base_uri": "https://localhost:8080/"
        },
        "id": "UhadxrgOW9uH",
        "outputId": "a38c4cd5-7750-4e3f-f1e6-926234b6d049"
      },
      "execution_count": 9,
      "outputs": [
        {
          "output_type": "stream",
          "name": "stdout",
          "text": [
            "5\n",
            "its an even number\n"
          ]
        }
      ]
    },
    {
      "cell_type": "code",
      "source": [
        "# Ans no 3:-\n",
        "x = int(input(\"Enter Year.\"))\n",
        "if x%4 == 0:\n",
        "    print(\"{}  is a Leap Year\".format(x))\n",
        "else:\n",
        "    print(\"{}  is not a Leap Year\".format(x))"
      ],
      "metadata": {
        "colab": {
          "base_uri": "https://localhost:8080/"
        },
        "id": "UBIAE-aKYlqq",
        "outputId": "23870da3-bc50-4be8-8c44-c8d73dd382ef"
      },
      "execution_count": 11,
      "outputs": [
        {
          "output_type": "stream",
          "name": "stdout",
          "text": [
            "Enter Year.2020\n",
            "2020  is a Leap Year\n"
          ]
        }
      ]
    },
    {
      "cell_type": "code",
      "source": [
        "# Ans no 4:-\n",
        "x = int(input(\"Enter a no.\"))\n",
        "for i in range(2,x):\n",
        "    if x % i == 0:\n",
        "        print(f'this is  not a prime no :{x}')\n",
        "        break\n",
        "else:\n",
        "              print(f\"this is  a prime no :{x}\")"
      ],
      "metadata": {
        "colab": {
          "base_uri": "https://localhost:8080/"
        },
        "id": "3pRkZgUeZU7L",
        "outputId": "51718c0d-caeb-4394-ea26-c4573717e6e2"
      },
      "execution_count": 14,
      "outputs": [
        {
          "output_type": "stream",
          "name": "stdout",
          "text": [
            "Enter a no.6\n",
            "this is  not a prime no :6\n"
          ]
        }
      ]
    },
    {
      "cell_type": "code",
      "source": [
        "# Ans no 5:-\n",
        "x = int(input(\"Enter a number1: \"))\n",
        "y = int(input(\"Enter a number2: \"))\n",
        "for num in range(x,y):\n",
        "    if num > 1:\n",
        "        for i in range(2,num):\n",
        "            if (num%i) == 0:\n",
        "                print(num,'is not a prime')\n",
        "                break\n",
        "        else:\n",
        "            print(num,'is a prime number')"
      ],
      "metadata": {
        "id": "qRczKIqKcHP5"
      },
      "execution_count": null,
      "outputs": []
    }
  ]
}