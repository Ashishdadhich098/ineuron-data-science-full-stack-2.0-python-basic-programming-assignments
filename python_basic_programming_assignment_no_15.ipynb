{
  "nbformat": 4,
  "nbformat_minor": 0,
  "metadata": {
    "colab": {
      "provenance": []
    },
    "kernelspec": {
      "name": "python3",
      "display_name": "Python 3"
    },
    "language_info": {
      "name": "python"
    }
  },
  "cells": [
    {
      "cell_type": "code",
      "execution_count": 1,
      "metadata": {
        "colab": {
          "base_uri": "https://localhost:8080/"
        },
        "id": "oRDda_fizA9J",
        "outputId": "ccd52d87-2c02-4e8d-8bed-2b5b8abcfbc3"
      },
      "outputs": [
        {
          "output_type": "stream",
          "name": "stdout",
          "text": [
            "enter n : 100\n",
            "0,35,70\n"
          ]
        }
      ],
      "source": [
        "# Ans no 1:-\n",
        "def getno(n):\n",
        "    i = 0\n",
        "    while i < n:\n",
        "        j = i\n",
        "        i += 1\n",
        "        if j % 7 == 0 and j % 5 == 0:\n",
        "            yield j\n",
        "n = int(input('enter n : '))\n",
        "num =[]\n",
        "for i in getno(n):\n",
        "    num.append(str(i))\n",
        "\n",
        "print(','.join(num))"
      ]
    },
    {
      "cell_type": "code",
      "source": [
        "# Ans no 2:-\n",
        "def getno(n):\n",
        "    i = 0\n",
        "    while i < n:\n",
        "        j = i\n",
        "        i += 1\n",
        "        if j % 2 == 0:\n",
        "            yield j\n",
        "n = int(input('enter n : '))\n",
        "num =[]\n",
        "for i in getno(n):\n",
        "    num.append(str(i))\n",
        "\n",
        "print(','.join(num))"
      ],
      "metadata": {
        "colab": {
          "base_uri": "https://localhost:8080/"
        },
        "id": "lxoEASKszzNz",
        "outputId": "c931a2d9-a1e0-4e83-a57c-90df9120de5e"
      },
      "execution_count": 2,
      "outputs": [
        {
          "output_type": "stream",
          "name": "stdout",
          "text": [
            "enter n : 10\n",
            "0,2,4,6,8\n"
          ]
        }
      ]
    },
    {
      "cell_type": "code",
      "source": [
        "# Ans no 3:-\n",
        "def fib(n):\n",
        "    if n == 0:\n",
        "            return 0\n",
        "    elif n == 1:\n",
        "            return 1\n",
        "    else:\n",
        "            return fib(n-1)+fib(n-2)\n",
        "n=int(input('Enter a number :'))\n",
        "values = [str(fib(x)) for x in range(0, n+1)]\n",
        "print(\",\".join(values))"
      ],
      "metadata": {
        "colab": {
          "base_uri": "https://localhost:8080/"
        },
        "id": "JFDtb4e31g6y",
        "outputId": "475f1b1a-a63c-4f95-85f2-0c50fceaa7e7"
      },
      "execution_count": 3,
      "outputs": [
        {
          "output_type": "stream",
          "name": "stdout",
          "text": [
            "Enter a number :7\n",
            "0,1,1,2,3,5,8,13\n"
          ]
        }
      ]
    },
    {
      "cell_type": "code",
      "source": [
        "# Ans no 4:-\n",
        "email = input(\"Enter the email address : \").split('@')\n",
        "company = str(email[1]).split('.')\n",
        "print(\"User name : \",email[0])\n",
        "print(\"Company name : \",company[0])"
      ],
      "metadata": {
        "colab": {
          "base_uri": "https://localhost:8080/"
        },
        "id": "O6FnRmks1ptd",
        "outputId": "c8acb25c-3feb-42d8-bbe9-aef8a36bf1e0"
      },
      "execution_count": 4,
      "outputs": [
        {
          "output_type": "stream",
          "name": "stdout",
          "text": [
            "Enter the email address : yash@google.com\n",
            "User name :  yash\n",
            "Company name :  google\n"
          ]
        }
      ]
    },
    {
      "cell_type": "code",
      "source": [
        "# Ans no 5:-\n",
        "\n",
        "class Shape(object):\n",
        "  def __init__(self):\n",
        "    pass\n",
        "\n",
        "  def area(self):\n",
        "     return 0\n",
        "\n",
        "class Square(Shape):\n",
        "  def __init__(self,l):\n",
        "\n",
        "\n",
        "    self.length = l\n",
        "\n",
        "  def area(self):\n",
        "    return self.length*self.length\n",
        "\n",
        "\n",
        "\n",
        "obsquare = Square(9)\n",
        "\n",
        "\n",
        "obsquare.area()"
      ],
      "metadata": {
        "colab": {
          "base_uri": "https://localhost:8080/"
        },
        "id": "1wK4CYTK1yAB",
        "outputId": "c72dac51-607a-4aa9-bc40-39d77a26211b"
      },
      "execution_count": 5,
      "outputs": [
        {
          "output_type": "execute_result",
          "data": {
            "text/plain": [
              "81"
            ]
          },
          "metadata": {},
          "execution_count": 5
        }
      ]
    },
    {
      "cell_type": "code",
      "source": [],
      "metadata": {
        "id": "wdhcXKg62A_V"
      },
      "execution_count": null,
      "outputs": []
    }
  ]
}