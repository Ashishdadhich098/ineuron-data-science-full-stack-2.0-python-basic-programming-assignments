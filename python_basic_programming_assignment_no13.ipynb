{
  "nbformat": 4,
  "nbformat_minor": 0,
  "metadata": {
    "colab": {
      "provenance": []
    },
    "kernelspec": {
      "name": "python3",
      "display_name": "Python 3"
    },
    "language_info": {
      "name": "python"
    }
  },
  "cells": [
    {
      "cell_type": "code",
      "execution_count": 1,
      "metadata": {
        "id": "Zdkaft1emLgZ",
        "colab": {
          "base_uri": "https://localhost:8080/"
        },
        "outputId": "6e6f31ba-18f6-4315-a0c5-7ce2c04510c0"
      },
      "outputs": [
        {
          "output_type": "stream",
          "name": "stdout",
          "text": [
            "Provide D in with comma separated: 100,150,180\n",
            "18,22,24\n"
          ]
        }
      ],
      "source": [
        "# Ans no 1:-\n",
        "import math\n",
        "\n",
        "values = input(\"Provide D in with comma separated: \")\n",
        "values = values.split(',')\n",
        "\n",
        "final = []\n",
        "\n",
        "for D in values:\n",
        "    A = round(math.sqrt(2 * 50 * int(D) / 30))\n",
        "    final.append(str(A))\n",
        "\n",
        "print(','.join(final))\n",
        "\n"
      ]
    },
    {
      "cell_type": "code",
      "source": [
        "# Ans no 2:-\n",
        "def ABC(n,m):\n",
        "\n",
        "    A=[]\n",
        "    print(\"Enter the element :\")\n",
        "    for i in range(n):\n",
        "        #store row\n",
        "        row =[]\n",
        "        for j in range(m):\n",
        "            row.append(i*j)\n",
        "        A.append(row)\n",
        "    return(A)\n",
        "\n",
        "x = int(input(\"Enter x : \"))\n",
        "y = int(input(\"enter y : \"))\n",
        "ABC(x,y)"
      ],
      "metadata": {
        "colab": {
          "base_uri": "https://localhost:8080/"
        },
        "id": "xg9s0RWDntu5",
        "outputId": "6fc21809-77c3-4b55-9312-aeac6367e259"
      },
      "execution_count": 2,
      "outputs": [
        {
          "output_type": "stream",
          "name": "stdout",
          "text": [
            "Enter x : 3\n",
            "enter y : 5\n",
            "Enter the element :\n"
          ]
        },
        {
          "output_type": "execute_result",
          "data": {
            "text/plain": [
              "[[0, 0, 0, 0, 0], [0, 1, 2, 3, 4], [0, 2, 4, 6, 8]]"
            ]
          },
          "metadata": {},
          "execution_count": 2
        }
      ]
    },
    {
      "cell_type": "code",
      "source": [
        "# Ans no 3:-\n",
        "words=[x for x in input('Enter comma seperated words ').split(',')]\n",
        "words.sort()\n",
        "print(','.join(words))\n",
        ""
      ],
      "metadata": {
        "colab": {
          "base_uri": "https://localhost:8080/"
        },
        "id": "hM_V0yHTpgBk",
        "outputId": "581b021e-6c58-40f7-a24d-187da829dd45"
      },
      "execution_count": 4,
      "outputs": [
        {
          "output_type": "stream",
          "name": "stdout",
          "text": [
            "Enter comma seperated words hello,bunny,beautiful\n",
            "beautiful,bunny,hello\n"
          ]
        }
      ]
    },
    {
      "cell_type": "code",
      "source": [
        "# Ans no 4:-\n",
        "words=[x for x in input('Enter space sepeated words ').split(' ')]\n",
        "print(' '.join(sorted(list(set(words)))))"
      ],
      "metadata": {
        "colab": {
          "base_uri": "https://localhost:8080/"
        },
        "id": "RCzNG7Eys1Y_",
        "outputId": "1517f26b-f725-41f4-cd0e-52ec89894a97"
      },
      "execution_count": 5,
      "outputs": [
        {
          "output_type": "stream",
          "name": "stdout",
          "text": [
            "Enter space sepeated words hello beautiful bunny \n",
            " beautiful bunny hello\n"
          ]
        }
      ]
    },
    {
      "cell_type": "code",
      "source": [
        "# Ans no 5:-\n",
        "a = input(\"Input a string : \")\n",
        "digits=letters=0\n",
        "for i in a:\n",
        "    if i.isdigit():\n",
        "        digits += 1\n",
        "    elif i.isalpha():\n",
        "        letters += 1\n",
        "    else:\n",
        "        pass\n",
        "print(\"Letters\", letters)\n",
        "print(\"Digits\", digits)\n",
        ""
      ],
      "metadata": {
        "colab": {
          "base_uri": "https://localhost:8080/"
        },
        "id": "NVuG2HXUtaTM",
        "outputId": "36179607-ee51-4162-d720-9a6774c7ee5c"
      },
      "execution_count": 6,
      "outputs": [
        {
          "output_type": "stream",
          "name": "stdout",
          "text": [
            "Input a string : hello world ! 123\n",
            "Letters 10\n",
            "Digits 3\n"
          ]
        }
      ]
    },
    {
      "cell_type": "code",
      "source": [
        "# Ans no 6:-\n",
        "import re\n",
        "password= input(\"Enter your password : \")\n",
        "x = True\n",
        "while x:\n",
        "    if (len(password) < 6 or len(password) > 12):\n",
        "        break\n",
        "    elif not re.search(\"[a-z]\",password):\n",
        "        break\n",
        "    elif not re.search(\"[0-9]\",password):\n",
        "        break\n",
        "    elif not re.search(\"[A-Z]\",password):\n",
        "        break\n",
        "    elif not re.search(\"[$#@]\",password):\n",
        "        break\n",
        "    elif re.search(\"\\s\",password):\n",
        "        break\n",
        "    else:\n",
        "        print(\"Valid Password\")\n",
        "        x=False\n",
        "        break\n",
        "\n",
        "if x:\n",
        "    print(\"Not a Valid Password\")\n",
        ""
      ],
      "metadata": {
        "colab": {
          "base_uri": "https://localhost:8080/"
        },
        "id": "tY1e_3T7t4X_",
        "outputId": "0e3c5d5e-42fc-4e95-b643-6d68a112d9ce"
      },
      "execution_count": 7,
      "outputs": [
        {
          "output_type": "stream",
          "name": "stdout",
          "text": [
            "Enter your password : ABd1234@1\n",
            "Valid Password\n"
          ]
        }
      ]
    },
    {
      "cell_type": "code",
      "source": [],
      "metadata": {
        "id": "rJHK1YCXubdQ"
      },
      "execution_count": 7,
      "outputs": []
    }
  ]
}