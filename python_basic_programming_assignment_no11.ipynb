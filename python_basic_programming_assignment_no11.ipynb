{
  "nbformat": 4,
  "nbformat_minor": 0,
  "metadata": {
    "colab": {
      "provenance": []
    },
    "kernelspec": {
      "name": "python3",
      "display_name": "Python 3"
    },
    "language_info": {
      "name": "python"
    }
  },
  "cells": [
    {
      "cell_type": "code",
      "execution_count": 1,
      "metadata": {
        "colab": {
          "base_uri": "https://localhost:8080/"
        },
        "id": "wPs-P8PNTN0k",
        "outputId": "85751412-5db8-40a9-e0de-a27d0928006b"
      },
      "outputs": [
        {
          "output_type": "stream",
          "name": "stdout",
          "text": [
            "Enter the string :  i love coding \n",
            "Enter the lenth K : 2\n",
            "\n",
            "The original string '  i love coding  '\n",
            "Words greater than k2\n",
            "['love', 'coding']\n"
          ]
        }
      ],
      "source": [
        "# Ans no 1:-\n",
        "def Biggerthank(k,str):\n",
        "    txt = str.split()\n",
        "    Wordlist = []\n",
        "    for i in txt:\n",
        "        if len(i) > k:\n",
        "            Wordlist.append(i)\n",
        "    return Wordlist\n",
        "\n",
        "str = input(\"Enter the string : \")\n",
        "k = int(input(\"Enter the lenth K : \"))\n",
        "\n",
        "Wordlist = Biggerthank(k,str)\n",
        "\n",
        "print(\"\\nThe original string ' {} '\".format(str))\n",
        "\n",
        "print(\"Words greater than k{}\".format(k))\n",
        "print(Wordlist)"
      ]
    },
    {
      "cell_type": "code",
      "source": [
        "#Ans no 2:-\n",
        "def remove(str, i):\n",
        "\n",
        "    for j in range(len(str)):\n",
        "        if j == i:\n",
        "            str = str.replace(str[i], \"\", 1)\n",
        "    return str\n",
        "\n",
        "str = input(\"Enter the string : \")\n",
        "i = int(input(\"Enter the index : \"))\n",
        "\n",
        "# Print the new string\n",
        "\n",
        "print(\"The new string : \", remove(str, i))"
      ],
      "metadata": {
        "colab": {
          "base_uri": "https://localhost:8080/"
        },
        "id": "NMrs-MWJUqpM",
        "outputId": "e56c9b99-e358-41cc-8756-78b174858b14"
      },
      "execution_count": 2,
      "outputs": [
        {
          "output_type": "stream",
          "name": "stdout",
          "text": [
            "Enter the string : Ashish\n",
            "Enter the index : 3\n",
            "The new string :  Ashsh\n"
          ]
        }
      ]
    },
    {
      "cell_type": "code",
      "source": [
        "# Ans no 3:-\n",
        "str = \"I love coding\"\n",
        "str = str.split(\" \")\n",
        "print(\"Spliting a string : \",str)\n",
        "\n",
        "\n",
        "str2 = \"-\".join(str)\n",
        "print(\"Joining a string : \",str2)"
      ],
      "metadata": {
        "colab": {
          "base_uri": "https://localhost:8080/"
        },
        "id": "5SDJBfRqe58o",
        "outputId": "7c9059a0-cceb-4ca0-8634-8ffbca82892a"
      },
      "execution_count": 3,
      "outputs": [
        {
          "output_type": "stream",
          "name": "stdout",
          "text": [
            "Spliting a string :  ['I', 'love', 'coding']\n",
            "Joining a string :  I-love-coding\n"
          ]
        }
      ]
    },
    {
      "cell_type": "code",
      "source": [
        "# Ans no 4:-\n",
        "def ifbinary(str):\n",
        "    binary = '01'\n",
        "    for i in range(len(str)):\n",
        "        if str[i] not in binary:\n",
        "            print('Not Binary')\n",
        "            break\n",
        "    else:\n",
        "        print('Binary')\n",
        "\n",
        "str = input(\"Enter the string : \")\n",
        "ifbinary(str)"
      ],
      "metadata": {
        "colab": {
          "base_uri": "https://localhost:8080/"
        },
        "id": "sNZA5NWNfM5z",
        "outputId": "e236f33a-6634-4da6-f7bf-cc75d4d2e70d"
      },
      "execution_count": 4,
      "outputs": [
        {
          "output_type": "stream",
          "name": "stdout",
          "text": [
            "Enter the string : 10101030205040\n",
            "Not Binary\n"
          ]
        }
      ]
    },
    {
      "cell_type": "code",
      "source": [
        "# Ans no 5:-\n",
        "def unCommon(a,b):\n",
        "    list_one = a.split()\n",
        "    list_two = b.split()\n",
        "    notcom =''\n",
        "\n",
        "    for i in list_one:\n",
        "        if i not in list_two:\n",
        "            notcom = notcom +\" \"+ i\n",
        "    for j in list_two:\n",
        "        if j not in list_one:\n",
        "            notcom = notcom +\" \"+ j\n",
        "    return notcom\n",
        "\n",
        "a = input(\"Enter the string a : \").lower()\n",
        "b = input(\"Enter the string b : \").lower()\n",
        "\n",
        "print(\"The list of un Common words : \", unCommon(a,b))"
      ],
      "metadata": {
        "colab": {
          "base_uri": "https://localhost:8080/"
        },
        "id": "_q0zxwFHfc55",
        "outputId": "158f516b-9159-4208-a11e-2bb1a5de797b"
      },
      "execution_count": 5,
      "outputs": [
        {
          "output_type": "stream",
          "name": "stdout",
          "text": [
            "Enter the string a : one is two\n",
            "Enter the string b : one is three\n",
            "The list of un Common words :   two three\n"
          ]
        }
      ]
    },
    {
      "cell_type": "code",
      "source": [
        "# Ans no 6:-\n",
        "str = input(\"Enter the string a : \").lower()\n",
        "duplicate = []\n",
        "\n",
        "for i in str:\n",
        "    if str.count(i) > 1 :\n",
        "        if i not in duplicate:\n",
        "            duplicate.append(i)\n",
        "\n",
        "duplicate\n"
      ],
      "metadata": {
        "colab": {
          "base_uri": "https://localhost:8080/"
        },
        "id": "LfHOsQULfulf",
        "outputId": "178d2b7e-14c5-4689-da14-0b980c5e1fe7"
      },
      "execution_count": 6,
      "outputs": [
        {
          "name": "stdout",
          "output_type": "stream",
          "text": [
            "Enter the string a : Good evening\n"
          ]
        },
        {
          "output_type": "execute_result",
          "data": {
            "text/plain": [
              "['g', 'o', 'e', 'n']"
            ]
          },
          "metadata": {},
          "execution_count": 6
        }
      ]
    },
    {
      "cell_type": "code",
      "source": [
        "# Ans no 7:-\n",
        "import string\n",
        "\n",
        "str_char = string.punctuation\n",
        "speci_str = []\n",
        "\n",
        "str = input(\"Enter the string a : \").lower()\n",
        "for i in str:\n",
        "    if i in str_char:\n",
        "        speci_str.append(i)\n",
        "if len(speci_str) > 0:\n",
        "    print(\"String {} has special charecter/s : {}\".format(str,speci_str))\n"
      ],
      "metadata": {
        "colab": {
          "base_uri": "https://localhost:8080/"
        },
        "id": "cPHzrPqygFe8",
        "outputId": "71cf6244-6694-4f3f-ce2c-d22925858524"
      },
      "execution_count": 7,
      "outputs": [
        {
          "output_type": "stream",
          "name": "stdout",
          "text": [
            "Enter the string a : i am !@##$%\n",
            "String i am !@##$% has special charecter/s : ['!', '@', '#', '#', '$', '%']\n"
          ]
        }
      ]
    },
    {
      "cell_type": "code",
      "source": [],
      "metadata": {
        "id": "PQ3LptVShDnl"
      },
      "execution_count": null,
      "outputs": []
    }
  ]
}