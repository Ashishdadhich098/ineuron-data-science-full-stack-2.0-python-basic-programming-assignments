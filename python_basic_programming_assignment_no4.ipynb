{
  "nbformat": 4,
  "nbformat_minor": 0,
  "metadata": {
    "colab": {
      "provenance": []
    },
    "kernelspec": {
      "name": "python3",
      "display_name": "Python 3"
    },
    "language_info": {
      "name": "python"
    }
  },
  "cells": [
    {
      "cell_type": "code",
      "execution_count": 3,
      "metadata": {
        "colab": {
          "base_uri": "https://localhost:8080/"
        },
        "id": "xtDrYqt7elS9",
        "outputId": "2cc99829-8187-4c63-9daf-0c115f39b315"
      },
      "outputs": [
        {
          "output_type": "stream",
          "name": "stdout",
          "text": [
            "Enter a Number 4\n",
            "Factorial of 4 is 24\n"
          ]
        }
      ],
      "source": [
        "# Ans no 1:-\n",
        "x = int(input(\"Enter a Number \"))\n",
        "factorial = 1\n",
        "if x < 0:\n",
        "    print(\"Can not calculate Factorial of a negative number\")\n",
        "elif x == 0:\n",
        "    print(\"Factorial of zero is 1\")\n",
        "else:\n",
        "    for i in range(1,x+1):\n",
        "        factorial = factorial * i\n",
        "print(\"Factorial of {} is {}\".format(x, factorial))"
      ]
    },
    {
      "cell_type": "code",
      "source": [
        "# Ans no 2:-\n",
        "x = int(input(\"Enter a no for Table\"))\n",
        "print(\"Multiplication table for:\",x)\n",
        "for i in range(1,11):\n",
        "    print(\"{} x {} = {}\".format(x , i , x*i))"
      ],
      "metadata": {
        "colab": {
          "base_uri": "https://localhost:8080/"
        },
        "id": "eWuRBt9IstA5",
        "outputId": "4311cfc5-6f3a-447a-a961-c7be89a2ebf8"
      },
      "execution_count": 9,
      "outputs": [
        {
          "output_type": "stream",
          "name": "stdout",
          "text": [
            "Enter a no for Table5\n",
            "Multiplication table for: 5\n",
            "5 x 1 = 5\n",
            "5 x 2 = 10\n",
            "5 x 3 = 15\n",
            "5 x 4 = 20\n",
            "5 x 5 = 25\n",
            "5 x 6 = 30\n",
            "5 x 7 = 35\n",
            "5 x 8 = 40\n",
            "5 x 9 = 45\n",
            "5 x 10 = 50\n"
          ]
        }
      ]
    },
    {
      "cell_type": "code",
      "source": [
        "# Ans no 3:-\n",
        "# Fibonacci series - > 1, 1, 2, 3, 5,8,13........\n",
        "def genfib(n):\n",
        "    a =1\n",
        "    b= 1\n",
        "    l =[]\n",
        "    for i in range(n):\n",
        "        l.append(a)\n",
        "        a , b = b , a+b\n",
        "    return l"
      ],
      "metadata": {
        "id": "HMua6GtztvY4"
      },
      "execution_count": 10,
      "outputs": []
    },
    {
      "cell_type": "code",
      "source": [
        "genfib(6)"
      ],
      "metadata": {
        "colab": {
          "base_uri": "https://localhost:8080/"
        },
        "id": "_k8fy6TUvg6E",
        "outputId": "69aac441-ae95-4373-f4e1-0e3b60753467"
      },
      "execution_count": 11,
      "outputs": [
        {
          "output_type": "execute_result",
          "data": {
            "text/plain": [
              "[1, 1, 2, 3, 5, 8]"
            ]
          },
          "metadata": {},
          "execution_count": 11
        }
      ]
    },
    {
      "cell_type": "code",
      "source": [
        "# Ans 4:-\n",
        "num_terms = int(input(\"Enter the number of terms: \"))\n",
        "\n",
        "# Initialize the first two terms\n",
        "fibonacci_seq = [0, 1]\n",
        "\n",
        "# Generate the Fibonacci sequence\n",
        "for i in range(2, num_terms):\n",
        "    next_term = fibonacci_seq[i-1] + fibonacci_seq[i-2]\n",
        "    fibonacci_seq.append(next_term)\n",
        "\n",
        "# Print the Fibonacci sequence\n",
        "print(\"Fibonacci Sequence:\")\n",
        "for term in fibonacci_seq:\n",
        "    print(term)"
      ],
      "metadata": {
        "colab": {
          "base_uri": "https://localhost:8080/"
        },
        "id": "WAmPa4aUvhco",
        "outputId": "c4f829ea-c24d-4f80-b62e-18df3daf878e"
      },
      "execution_count": 14,
      "outputs": [
        {
          "output_type": "stream",
          "name": "stdout",
          "text": [
            "Enter the number of terms: 15\n",
            "Fibonacci Sequence:\n",
            "0\n",
            "1\n",
            "1\n",
            "2\n",
            "3\n",
            "5\n",
            "8\n",
            "13\n",
            "21\n",
            "34\n",
            "55\n",
            "89\n",
            "144\n",
            "233\n",
            "377\n"
          ]
        }
      ]
    },
    {
      "cell_type": "code",
      "source": [
        "# Ans no 5:-\n",
        "## Find Armstrong Number in an Interval\n",
        "x = int(input(\"Low no : \"))\n",
        "y = int(input(\"Up no : \"))\n",
        "\n",
        "\n",
        "for i in range(x,y+1):\n",
        "    power = len(str(i))\n",
        "    temp = i\n",
        "    sum = 0\n",
        "    while temp > 0:\n",
        "        digit = temp % 10\n",
        "        sum = sum + digit ** power\n",
        "        temp = temp//10\n",
        "    if i == sum :\n",
        "        print(i)"
      ],
      "metadata": {
        "colab": {
          "base_uri": "https://localhost:8080/"
        },
        "id": "-ddo_ZpQx835",
        "outputId": "191efb83-c849-4936-aee0-2dab2cd93627"
      },
      "execution_count": 15,
      "outputs": [
        {
          "output_type": "stream",
          "name": "stdout",
          "text": [
            "Low no : 5\n",
            "Up no : 25\n",
            "5\n",
            "6\n",
            "7\n",
            "8\n",
            "9\n"
          ]
        }
      ]
    },
    {
      "cell_type": "code",
      "source": [
        "# Ans no 6 :-\n",
        "x = int(input(\"enter the number : \"))\n",
        "\n",
        "sum = 0\n",
        "for i in range(0,x+1):\n",
        "    sum+=i\n",
        "print(\"Sum of natural numbers upto {} is {}\".format(x,sum))"
      ],
      "metadata": {
        "colab": {
          "base_uri": "https://localhost:8080/"
        },
        "id": "Cdjb1bkAzDEz",
        "outputId": "2b1eb56c-5f02-4b5c-d279-f360a5dbc177"
      },
      "execution_count": 16,
      "outputs": [
        {
          "output_type": "stream",
          "name": "stdout",
          "text": [
            "enter the number : 4\n",
            "Sum of natural numbers upto 4 is 10\n"
          ]
        }
      ]
    }
  ]
}