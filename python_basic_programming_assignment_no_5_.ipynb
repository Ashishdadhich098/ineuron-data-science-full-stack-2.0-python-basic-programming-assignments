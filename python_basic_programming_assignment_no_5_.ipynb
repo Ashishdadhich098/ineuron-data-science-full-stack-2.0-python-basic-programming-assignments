{
  "nbformat": 4,
  "nbformat_minor": 0,
  "metadata": {
    "colab": {
      "provenance": []
    },
    "kernelspec": {
      "name": "python3",
      "display_name": "Python 3"
    },
    "language_info": {
      "name": "python"
    }
  },
  "cells": [
    {
      "cell_type": "code",
      "execution_count": 1,
      "metadata": {
        "colab": {
          "base_uri": "https://localhost:8080/"
        },
        "id": "Pcfc42SRzl0C",
        "outputId": "00a30493-7bad-4c71-a3e7-aff59a2fd8df"
      },
      "outputs": [
        {
          "output_type": "stream",
          "name": "stdout",
          "text": [
            "Enter num1 : 3\n",
            "Enter num2 : 4\n",
            "The LCM of 3 and 4 is 12\n"
          ]
        }
      ],
      "source": [
        "# Ans no 1:-\n",
        "x = int(input(\"Enter num1 : \"))\n",
        "y = int(input(\"Enter num2 : \"))\n",
        "\n",
        "# big no.\n",
        "if x > y:\n",
        "    big = x\n",
        "else:\n",
        "    big = y\n",
        "\n",
        "while(True):\n",
        "    if big % x == 0 and big % y == 0 :\n",
        "        lcm = big\n",
        "        break\n",
        "    big+=1\n",
        "\n",
        "print(\"The LCM of {} and {} is {}\".format(x,y,lcm))"
      ]
    },
    {
      "cell_type": "code",
      "source": [
        "# Ans no 2:-\n",
        "x = int(input(\"Enter num1 : \"))\n",
        "y = int(input(\"Enter num2 : \"))\n",
        "\n",
        "# big no\n",
        "if x < y:\n",
        "    small = x\n",
        "else:\n",
        "    small = y\n",
        "hcf = 0\n",
        "for i in range(1,small+1):\n",
        "    if x % i == 0 and y % i == 0 :\n",
        "        hcf = i\n",
        "\n",
        "print(\"The hcf of {} and {} is {}\".format(x,y,hcf))"
      ],
      "metadata": {
        "colab": {
          "base_uri": "https://localhost:8080/"
        },
        "id": "j8hBa17WKdze",
        "outputId": "9ab51f78-13d3-46d6-88e6-adfb83c50c14"
      },
      "execution_count": 2,
      "outputs": [
        {
          "output_type": "stream",
          "name": "stdout",
          "text": [
            "Enter num1 : 3\n",
            "Enter num2 : 4\n",
            "The hcf of 3 and 4 is 1\n"
          ]
        }
      ]
    },
    {
      "cell_type": "code",
      "source": [
        "# Ans no 3:-\n",
        "x=int(input(\"Enter number :\"))\n",
        "\n",
        "print(x, \"in binary : \", bin(x))\n",
        "print(x, \"in Octal : \", oct(x))\n",
        "print(x, \"in Hexadecimal : \",hex(x))"
      ],
      "metadata": {
        "colab": {
          "base_uri": "https://localhost:8080/"
        },
        "id": "IeX-5HjQLDp2",
        "outputId": "851ed599-1e1a-4ee4-9225-2b92634ba6d3"
      },
      "execution_count": 3,
      "outputs": [
        {
          "output_type": "stream",
          "name": "stdout",
          "text": [
            "Enter number :44\n",
            "44 in binary :  0b101100\n",
            "44 in Octal :  0o54\n",
            "44 in Hexadecimal :  0x2c\n"
          ]
        }
      ]
    },
    {
      "cell_type": "code",
      "source": [
        "# Ans no 4:-\n",
        "str = input(\"Enter a Charecter : \")\n",
        "# ord gives the ASCII value of a character\n",
        "print(\"Ascii value of {} is {}\".format(str,ord(str)))"
      ],
      "metadata": {
        "colab": {
          "base_uri": "https://localhost:8080/"
        },
        "id": "-8ymvb5RLGQL",
        "outputId": "4ae7b752-6948-428f-a34e-4da32d588f5d"
      },
      "execution_count": 4,
      "outputs": [
        {
          "output_type": "stream",
          "name": "stdout",
          "text": [
            "Enter a Charecter : t\n",
            "Ascii value of t is 116\n"
          ]
        }
      ]
    },
    {
      "cell_type": "code",
      "source": [
        "# Ans no 5:-\n",
        "x = float(input(\"Enter num1 :\"))\n",
        "y = float(input(\"Enter num2 :\"))\n",
        "\n",
        "op = input(\"Enter + to add : \\nEnter - to Sub :\\nEnter * to multi :\\nEnter / to div : \")\n",
        "\n",
        "add = x + y\n",
        "sub = x - y\n",
        "mul = x * y\n",
        "\n",
        "\n",
        "if op == \"+\":\n",
        "    print(\"{} + {} = {}\".format(x,y,add))\n",
        "elif op == \"-\":\n",
        "    print(\"{} - {} = {}\".format(x,y,sub))\n",
        "elif op == \"*\":\n",
        "    print(\"{} * {} = {}\".format(x,y,mul))\n",
        "elif op == \"/\":\n",
        "    if num1 == 0 or num2 == 0:\n",
        "        print(\"Division with zero is not possible\")\n",
        "    else:\n",
        "        div = x / y\n",
        "        print(\"{} / {} = {}\".format(x,y,div))\n",
        "else:\n",
        "    print(\"Invalid input\")"
      ],
      "metadata": {
        "colab": {
          "base_uri": "https://localhost:8080/"
        },
        "id": "JdNtdHvMLbCe",
        "outputId": "4ef09a97-a1d8-45e8-ca24-bcc505c1e4af"
      },
      "execution_count": 5,
      "outputs": [
        {
          "output_type": "stream",
          "name": "stdout",
          "text": [
            "Enter num1 :5\n",
            "Enter num2 :6\n",
            "Enter + to add : \n",
            "Enter - to Sub :\n",
            "Enter * to multi :\n",
            "Enter / to div : *\n",
            "5.0 * 6.0 = 30.0\n"
          ]
        }
      ]
    }
  ]
}